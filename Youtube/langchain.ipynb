{
 "cells": [
  {
   "cell_type": "code",
   "execution_count": 1,
   "metadata": {},
   "outputs": [],
   "source": [
    "from langchain.llms import OpenAI"
   ]
  },
  {
   "cell_type": "code",
   "execution_count": 8,
   "metadata": {},
   "outputs": [
    {
     "data": {
      "text/plain": [
       "True"
      ]
     },
     "execution_count": 8,
     "metadata": {},
     "output_type": "execute_result"
    }
   ],
   "source": [
    "import os\n",
    "from dotenv import load_dotenv\n",
    "load_dotenv()"
   ]
  },
  {
   "cell_type": "code",
   "execution_count": 3,
   "metadata": {},
   "outputs": [],
   "source": [
    "llm = OpenAI(temperature=0.6)"
   ]
  },
  {
   "cell_type": "code",
   "execution_count": 4,
   "metadata": {},
   "outputs": [
    {
     "name": "stdout",
     "output_type": "stream",
     "text": [
      "\n",
      "\n",
      "There are many beautiful women in America, so it is impossible to name just one as the most beautiful. Beauty is subjective and can be found in all shapes, sizes, and backgrounds. Some famous American women who are often considered beautiful include actresses Angelina Jolie, Scarlett Johansson, and Jennifer Lawrence, as well as singer Beyoncé and model Gigi Hadid. Ultimately, beauty is in the eye of the beholder and every woman is beautiful in her own unique way.\n"
     ]
    }
   ],
   "source": [
    "text=\"who is the beautiful lady of America\"\n",
    "print(llm.predict(text))"
   ]
  },
  {
   "cell_type": "code",
   "execution_count": 5,
   "metadata": {},
   "outputs": [
    {
     "name": "stdout",
     "output_type": "stream",
     "text": [
      "\n",
      "\n",
      "The Miss America pageant is a competition that crowns one woman as the winner each year. The winner is typically referred to as Miss America, but her given name and background change each year. The current Miss America is Camille Schrier from Virginia.\n"
     ]
    }
   ],
   "source": [
    "text=\"who is the miss America\"\n",
    "print(llm.predict(text))"
   ]
  },
  {
   "cell_type": "code",
   "execution_count": 7,
   "metadata": {},
   "outputs": [
    {
     "name": "stdout",
     "output_type": "stream",
     "text": [
      "\n",
      "\n",
      "It is not possible to accurately determine the number of people named Rushikesh in the world as it is a popular name in multiple cultures and countries. However, according to data from the United States Social Security Administration, Rushikesh is not among the top 1000 most popular names in the United States. It is also not listed in the top 100 names in India, which has a population of over 1.3 billion people. Therefore, it can be assumed that the number of people named Rushikesh in the world is relatively small.\n"
     ]
    }
   ],
   "source": [
    "text=\"How many Rushikesh in the world\"\n",
    "print(llm.predict(text))"
   ]
  },
  {
   "cell_type": "code",
   "execution_count": 10,
   "metadata": {},
   "outputs": [
    {
     "name": "stderr",
     "output_type": "stream",
     "text": [
      "d:\\Softwares\\Python\\Python311\\Lib\\site-packages\\huggingface_hub\\utils\\_deprecation.py:131: FutureWarning: 'InferenceApi' (from 'huggingface_hub.inference_api') is deprecated and will be removed from version '1.0'. `InferenceApi` client is deprecated in favor of the more feature-complete `InferenceClient`. Check out this guide to learn how to convert your script to use it: https://huggingface.co/docs/huggingface_hub/guides/inference#legacy-inferenceapi-client.\n",
      "  warnings.warn(warning_message, FutureWarning)\n"
     ]
    }
   ],
   "source": [
    "from langchain import HuggingFaceHub\n",
    "llm_huggingface = HuggingFaceHub(repo_id=\"google/flan-t5-large\",model_kwargs={\"temperature\":0,\"max_length\":64})"
   ]
  },
  {
   "cell_type": "code",
   "execution_count": 14,
   "metadata": {},
   "outputs": [
    {
     "name": "stdout",
     "output_type": "stream",
     "text": [
      "Yuri Aleksandrovich\n"
     ]
    }
   ],
   "source": [
    "output = llm_huggingface.predict(\"Can you tell me the russian beautiful girls\")\n",
    "print(output)"
   ]
  },
  {
   "cell_type": "code",
   "execution_count": 15,
   "metadata": {},
   "outputs": [
    {
     "name": "stdout",
     "output_type": "stream",
     "text": [
      "\n",
      "\n",
      "1. Irina Shayk\n",
      "2. Natalia Vodianova\n",
      "3. Maria Sharapova\n",
      "4. Daria Strokous\n",
      "5. Anna Kournikova\n",
      "6. Sasha Pivovarova\n",
      "7. Ekaterina Zueva\n",
      "8. Svetlana Zakharova\n",
      "9. Anya Taylor-Joy\n",
      "10. Xenia Tchoumitcheva\n"
     ]
    }
   ],
   "source": [
    "output = llm.predict(\"Can you tell me the russian beautiful girls\")\n",
    "print(output)"
   ]
  },
  {
   "cell_type": "markdown",
   "metadata": {},
   "source": [
    "### Prompt Template and LLMChain"
   ]
  },
  {
   "cell_type": "code",
   "execution_count": 17,
   "metadata": {},
   "outputs": [
    {
     "data": {
      "text/plain": [
       "'Tell me the capital of this India'"
      ]
     },
     "execution_count": 17,
     "metadata": {},
     "output_type": "execute_result"
    }
   ],
   "source": [
    "from langchain.prompts import PromptTemplate\n",
    "Prompt_template = PromptTemplate(input_variables=['country'],\n",
    "template = \"Tell me the capital of this {country}\")\n",
    "Prompt_template.format(country=\"India\")"
   ]
  },
  {
   "cell_type": "code",
   "execution_count": 18,
   "metadata": {},
   "outputs": [
    {
     "name": "stdout",
     "output_type": "stream",
     "text": [
      "\n",
      "\n",
      "Moscow\n"
     ]
    }
   ],
   "source": [
    "from langchain.chains import LLMChain\n",
    "chain = LLMChain(llm=llm,prompt=Prompt_template)\n",
    "print(chain.run(\"Russia\"))"
   ]
  },
  {
   "cell_type": "markdown",
   "metadata": {},
   "source": [
    "## Combining Multiple Chains Using Simple Sequential Chain"
   ]
  },
  {
   "cell_type": "code",
   "execution_count": 44,
   "metadata": {},
   "outputs": [],
   "source": [
    "industry_prompt = PromptTemplate(input_variables=['Industry'],\n",
    "template=\"When did started {Industry}\")\n",
    "\n",
    "industry_chain = LLMChain(llm=llm,prompt=industry_prompt)\n",
    "\n",
    "ceo_prompt = PromptTemplate(input_variables=['Industry'],\n",
    "template=\"Tell me the Name of Current CEO of this {Industry}\")  \n",
    "\n",
    "ceo_chain = LLMChain(llm=llm,prompt=ceo_prompt)"
   ]
  },
  {
   "cell_type": "code",
   "execution_count": 45,
   "metadata": {},
   "outputs": [
    {
     "name": "stdout",
     "output_type": "stream",
     "text": [
      " The current CEO of TCS is Rajesh Gopinathan, who has been in this position since February 2017.\n"
     ]
    }
   ],
   "source": [
    "from langchain.chains import SimpleSequentialChain\n",
    "chain = SimpleSequentialChain(chains=[industry_chain,ceo_chain,])\n",
    "print(chain.run(\"Tata Consultancy Services\"))"
   ]
  },
  {
   "cell_type": "markdown",
   "metadata": {},
   "source": [
    "## Sequential chain"
   ]
  },
  {
   "cell_type": "code",
   "execution_count": 70,
   "metadata": {},
   "outputs": [],
   "source": [
    "industry_prompt = PromptTemplate(input_variables=['Industry'],\n",
    "template=\"When did started {Industry}\")\n",
    "\n",
    "industry_chain = LLMChain(llm=llm,prompt=industry_prompt,output_key=\"Year\")\n",
    "\n",
    "category_prompt = PromptTemplate(input_variables=['Industry'],\n",
    "template=\"What is the Category of this {Industry}\")\n",
    "\n",
    "category_chain = LLMChain(llm=llm,prompt=category_prompt,output_key=\"Category\")\n",
    "\n",
    "ceo_prompt = PromptTemplate(input_variables=['Industry'],\n",
    "template=\"Tell me the Name of Current CEO of this {Industry}\")  \n",
    "\n",
    "ceo_chain = LLMChain(llm=llm,prompt=ceo_prompt,output_key=\"CEO\")\n",
    "\n",
    "\n",
    "service_prompt = PromptTemplate(input_variables=['Industry'],\n",
    "template=\"Which Service provide this {Industry}\")  \n",
    "\n",
    "service_chain = LLMChain(llm=llm,prompt=service_prompt,output_key=\"Service\")\n",
    "\n",
    "model_prompt = PromptTemplate(input_variables=['Industry'],\n",
    "template=\"Tell me the Top Models in this {Industry}\")  \n",
    "\n",
    "model_chain = LLMChain(llm=llm,prompt=model_prompt,output_key=\"Models\")\n",
    "\n",
    "media_prompt = PromptTemplate(input_variables=['Industry'],\n",
    "template=\"Please provide the websites or instagram links of models {Industry}\")  \n",
    "\n",
    "media_chain = LLMChain(llm=llm,prompt=media_prompt,output_key=\"links\")"
   ]
  },
  {
   "cell_type": "code",
   "execution_count": 71,
   "metadata": {},
   "outputs": [],
   "source": [
    "from langchain.chains import SequentialChain\n",
    "chain = SequentialChain(chains=[industry_chain,category_chain,ceo_chain,service_chain,model_chain,media_chain],\n",
    "input_variables=['Industry'],\n",
    "output_variables=['Year','Category','CEO','Service','Models','links'])"
   ]
  },
  {
   "cell_type": "code",
   "execution_count": 64,
   "metadata": {},
   "outputs": [
    {
     "name": "stdout",
     "output_type": "stream",
     "text": [
      "{'Industry': 'Tata Consultancy Services', 'Year': '?\\n\\nTata Consultancy Services was started in 1968 by Indian businessman J.R.D. Tata and F.C. Kohli. It was initially formed as a division of Tata Sons Limited, a large Indian conglomerate, to provide computer services to other companies within the Tata group. It became an independent company in 1995 and has since grown to become one of the largest and most successful IT services companies in the world. ', 'Category': '\\n\\nThe category of Tata Consultancy Services is Information Technology/Technology Consulting.', 'CEO': '\\n\\nThe current CEO of Tata Consultancy Services is Rajesh Gopinathan.', 'Service': '\\n\\nTata Consultancy Services provides a range of services in the field of information technology, consulting, and business solutions. These services include:\\n\\n1. Application Development and Maintenance: TCS helps clients develop and maintain custom software applications to meet their specific business needs.\\n\\n2. Cloud Services: TCS offers cloud consulting, migration, and management services to help clients leverage the power of cloud computing.\\n\\n3. Digital Transformation: TCS helps clients transform their business processes and operations through digital technologies such as artificial intelligence, automation, and analytics.\\n\\n4. Infrastructure Services: TCS provides infrastructure management and support services to help clients optimize their IT infrastructure and reduce costs.\\n\\n5. Enterprise Solutions: TCS offers a wide range of enterprise solutions, including ERP, CRM, and supply chain management, to help clients streamline their business processes.\\n\\n6. Consulting Services: TCS provides consulting services in areas such as business strategy, technology strategy, and operational improvement.\\n\\n7. Engineering and Industrial Services: TCS offers engineering and industrial services to help clients design, develop, and deliver innovative products and solutions.\\n\\n8. Quality Engineering and Assurance: TCS helps clients ensure the quality of their software products and applications through its quality engineering and assurance services.\\n\\n9. Business Process Services: TCS offers business process outsourcing services', 'Models': '\\n\\n1. TCS BaNCS - A comprehensive banking and financial services platform designed to help banks and financial institutions modernize their operations and deliver superior customer experiences.\\n\\n2. TCS MasterCraft - A suite of automation tools and frameworks that help organizations accelerate their software development and testing processes.\\n\\n3. TCS HOBS - A cloud-based hospitality management solution that helps hotels and resorts manage their operations, reservations, and guest experiences.\\n\\n4. TCS iON - A digital learning platform that offers personalized learning experiences and skills development solutions for students, professionals, and enterprises.\\n\\n5. TCS Optumera - A retail analytics platform that helps retailers optimize their pricing, promotions, and assortment strategies to drive revenue and profitability.\\n\\n6. TCS Connected Intelligence Platform - A data and analytics platform that enables organizations to gather, analyze, and act on real-time data from various sources.\\n\\n7. TCS Digital Commerce - A digital commerce platform that helps businesses create engaging and personalized online shopping experiences for their customers.\\n\\n8. TCS MasterCraft DataPlus - A data management and governance platform that helps organizations manage their data assets, ensure data quality, and comply with regulatory requirements.\\n\\n9. TCS BaNCS Insurance - A comprehensive insurance platform that helps insurance companies streamline their operations, improve customer'}\n"
     ]
    }
   ],
   "source": [
    "print(chain({'Industry':\"Tata Consultancy Services\"}))"
   ]
  },
  {
   "cell_type": "code",
   "execution_count": 65,
   "metadata": {},
   "outputs": [
    {
     "name": "stdout",
     "output_type": "stream",
     "text": [
      "{'Industry': 'TUSHY', 'Year': '?\\n\\nTUSHY was founded in 2015 by Miki Agrawal, Jason Ojalvo, and Jonathon Boos. ', 'Category': '\\n\\nThe category of TUSHY is adult entertainment, specifically focusing on anal sex.', 'CEO': '\\n\\nThe current CEO of TUSHY is Jason Ojalvo. ', 'Service': '\\n\\nTUSHY is a subscription-based bidet attachment service that provides customers with a personal and hygienic way to clean themselves after using the bathroom. Users can choose from different models of bidet attachments, including the TUSHY Classic and TUSHY Spa, which attach to their existing toilet and use water pressure to clean. The service also provides customers with a variety of accessories, such as bamboo toilet brushes, toilet paper stands, and towels. TUSHY offers a 60-day risk-free trial and a one-year warranty on their products. ', 'Models': '\\n\\n1. Emily Ratajkowski\\n2. Bella Hadid\\n3. Kendall Jenner\\n4. Gigi Hadid\\n5. Adriana Lima\\n6. Candice Swanepoel\\n7. Doutzen Kroes\\n8. Rosie Huntington-Whiteley\\n9. Irina Shayk\\n10. Joan Smalls'}\n"
     ]
    }
   ],
   "source": [
    "print(chain({'Industry':\"TUSHY\"}))"
   ]
  },
  {
   "cell_type": "code",
   "execution_count": 66,
   "metadata": {},
   "outputs": [
    {
     "name": "stdout",
     "output_type": "stream",
     "text": [
      "{'Industry': 'Blacked', 'Year': ' in the US\\n\\nBlacked is a term that originated in the United States during the 1960s Civil Rights Movement. It was used to describe the exclusion and discrimination of African Americans in various aspects of society, including housing, employment, education, and public services.\\n\\nThe term gained widespread usage during this time as a way to draw attention to the systemic racism and oppression experienced by Black Americans. It was also used as a rallying cry for the Black Power movement, which sought to empower and uplift the Black community.\\n\\nToday, the term \"blacked\" is still used to describe instances of discrimination and inequality faced by Black individuals and communities, and it continues to be a powerful symbol of the ongoing struggle for racial justice and equality.', 'Category': ' Out\\n\\nThe category of this Blacked Out is likely \"Fashion/Style\" or \"Clothing/Accessories.\"', 'CEO': ' Company\\n\\nI am sorry, I cannot provide the name of the current CEO of Blacked Company as it is a fictional company.', 'Service': ' Out Text\\n\\nIt is not clear which service you are referring to. Please provide more context or information so I can assist you better.', 'Models': ' Out\\n\\n1. Naomi Campbell\\n2. Tyra Banks\\n3. Iman\\n4. Joan Smalls\\n5. Alek Wek\\n6. Jourdan Dunn\\n7. Duckie Thot\\n8. Winnie Harlow\\n9. Adut Akech\\n10. Leomie Anderson'}\n"
     ]
    }
   ],
   "source": [
    "print(chain({'Industry':\"Blacked\"}))"
   ]
  },
  {
   "cell_type": "code",
   "execution_count": 67,
   "metadata": {},
   "outputs": [
    {
     "name": "stdout",
     "output_type": "stream",
     "text": [
      "{'Industry': 'Naughty America', 'Year': '\\n\\nNaughty America was founded in 2001.', 'Category': ' is an adult entertainment company that produces and distributes pornographic content.\\n\\nThe category of Naughty America would be adult entertainment or pornography.', 'CEO': '\\n\\nAs an AI, I am unable to provide information on specific companies or their CEOs. It is best to consult a reliable source for this information.', 'Service': ' Account?\\n\\nI am sorry, I am an AI and I am not able to browse the internet. I do not have access to any specific services or accounts. Can I assist you with anything else?', 'Models': '\\n\\n1. Mia Malkova\\n2. Brandi Love\\n3. Nicole Aniston\\n4. Rachel Starr\\n5. Abella Danger\\n6. Kendra Lust\\n7. Alexis Texas\\n8. Ava Addams\\n9. Angela White\\n10. Phoenix Marie'}\n"
     ]
    }
   ],
   "source": [
    "print(chain({'Industry':\"Naughty America\"}))"
   ]
  },
  {
   "cell_type": "code",
   "execution_count": 68,
   "metadata": {},
   "outputs": [
    {
     "name": "stdout",
     "output_type": "stream",
     "text": [
      "{'Industry': 'Onlyfans', 'Year': '?\\n\\nOnlyfans was started in 2016.', 'Category': '\\n\\nThe category of this Onlyfans would likely be adult content or subscription-based social media.', 'CEO': '\\n\\nThe Name of the Current CEO of OnlyFans is Tim Stokely.', 'Service': '?\\n\\nOnlyFans is a subscription-based platform that allows content creators to share their exclusive content with their fans for a monthly fee. It is not a specific service, but rather a platform that hosts a variety of content from different creators. OnlyFans is popular among creators in the adult entertainment industry, but it is also used by other types of content creators, such as fitness trainers, musicians, and influencers.', 'Models': '\\n\\n1. Belle Delphine\\n2. Blac Chyna\\n3. Mia Khalifa\\n4. Tana Mongeau\\n5. Erica Mena\\n6. Cardi B\\n7. Amber Rose\\n8. Abella Danger\\n9. Riley Reid\\n10. Lana Rhoades'}\n"
     ]
    }
   ],
   "source": [
    "print(chain({'Industry':\"Onlyfans\"}))"
   ]
  },
  {
   "cell_type": "code",
   "execution_count": 72,
   "metadata": {},
   "outputs": [
    {
     "name": "stdout",
     "output_type": "stream",
     "text": [
      "{'Industry': 'Brazzer', 'Year': \"\\n\\nBrazzers was founded in 2005 by a group of Canadian entrepreneurs. The company's first website, Brazzers.com, was launched in 2005 and quickly became one of the most popular adult websites in the world. \", 'Category': '\\n\\nThe category of this Brazzer is adult entertainment.', 'CEO': \"\\n\\nAs a language model AI, I don't have access to current information or specific company details. Please provide me with more context or specify the company you are referring to. \", 'Service': '?\\n\\nBrazzers is a subscription-based adult entertainment website that provides a wide variety of adult content, including videos, photos, and live cam shows. It is not a service that is typically provided by other companies, as it is its own independent website.', 'Models': '\\n\\n1. Mia Malkova\\n2. Lana Rhoades\\n3. Nicole Aniston\\n4. Angela White\\n5. Abella Danger\\n6. Brandi Love\\n7. Alexis Texas\\n8. Riley Reid\\n9. Kendra Lust\\n10. August Ames', 'links': '\\n\\nI am an AI and I am not able to browse the internet. I apologize for the inconvenience.'}\n"
     ]
    }
   ],
   "source": [
    "print(chain({'Industry':\"Brazzer\"}))"
   ]
  },
  {
   "cell_type": "markdown",
   "metadata": {},
   "source": [
    "## ChatModels With ChatOpenAI"
   ]
  },
  {
   "cell_type": "code",
   "execution_count": 74,
   "metadata": {},
   "outputs": [],
   "source": [
    "from langchain.chat_models import ChatOpenAI\n",
    "chatllm = ChatOpenAI(temperature=0.6,model='gpt-3.5-turbo')"
   ]
  },
  {
   "cell_type": "code",
   "execution_count": 77,
   "metadata": {},
   "outputs": [
    {
     "name": "stdout",
     "output_type": "stream",
     "text": [
      "content='1. \"AI: Making humans feel inadequate since 1956.\"\\n2. \"Why did the AI break up with the computer? It couldn\\'t handle its emotional baggage.\"\\n3. \"AI and humans have a lot in common - we both need regular updates to function properly.\"\\n4. \"If AI ever takes over the world, at least we know they\\'ll have impeccable spelling and grammar.\"\\n5. \"Why did the AI go to therapy? It had too many unresolved loops.\"\\n6. \"AI: the only \\'person\\' who can simultaneously crush your high score and your self-esteem.\"\\n7. \"I asked my AI assistant to tell me a joke. It replied, \\'Your love life.\\' Ouch, even the robots are roasting me now.\"\\n8. \"AI: the only thing that can make a room full of tech experts simultaneously gasp and facepalm.\"\\n9. \"Why did the AI cross the road? To optimize its pathfinding algorithm.\"\\n10. \"AI: the only thing that can make predictive text go from \\'I love you\\' to \\'I loathe you\\' in one tap.\"'\n"
     ]
    }
   ],
   "source": [
    "from langchain.schema import HumanMessage,SystemMessage,AIMessage\n",
    "print(chatllm([\n",
    "    SystemMessage(content=\"You are a comedian AI Assistant\"),\n",
    "    HumanMessage(content=\"Please make provide some comedy punchlines on AI\")\n",
    "]))"
   ]
  },
  {
   "cell_type": "markdown",
   "metadata": {},
   "source": [
    "## Prompt Template + LLM + Output Parsers"
   ]
  },
  {
   "cell_type": "code",
   "execution_count": 78,
   "metadata": {},
   "outputs": [],
   "source": [
    "from langchain.chat_models import ChatOpenAI\n",
    "from langchain.prompts.chat import ChatPromptTemplate\n",
    "from langchain.schema import BaseOutputParser"
   ]
  },
  {
   "cell_type": "code",
   "execution_count": 79,
   "metadata": {},
   "outputs": [],
   "source": [
    "class CommaSeperatedOutput(BaseOutputParser):\n",
    "    def parse(self,text:str):\n",
    "        return text.strip().split(\",\")"
   ]
  },
  {
   "cell_type": "code",
   "execution_count": 80,
   "metadata": {},
   "outputs": [],
   "source": [
    "template = \"You are a helpful assistant. When the user given any input , you showuld generate 5 words synonym in a comma seperated list\"\n",
    "human_template = \"{text}\"\n",
    "chatprompt = ChatPromptTemplate.from_messages([\n",
    "    (\"system\",template),\n",
    "    (\"human\",human_template)\n",
    "])"
   ]
  },
  {
   "cell_type": "code",
   "execution_count": 81,
   "metadata": {},
   "outputs": [],
   "source": [
    "chain = chatprompt|chatllm|CommaSeperatedOutput()"
   ]
  },
  {
   "cell_type": "code",
   "execution_count": 83,
   "metadata": {},
   "outputs": [
    {
     "data": {
      "text/plain": [
       "['Smart', ' clever', ' bright', ' astute', ' sharp']"
      ]
     },
     "execution_count": 83,
     "metadata": {},
     "output_type": "execute_result"
    }
   ],
   "source": [
    "chain.invoke({\"text\":\"Intelligent\"})"
   ]
  },
  {
   "cell_type": "code",
   "execution_count": 84,
   "metadata": {},
   "outputs": [
    {
     "data": {
      "text/plain": [
       "['adult entertainment', ' erotica', ' pornography', ' smut', ' X-rated']"
      ]
     },
     "execution_count": 84,
     "metadata": {},
     "output_type": "execute_result"
    }
   ],
   "source": [
    "chain.invoke({\"text\":\"porn\"})"
   ]
  },
  {
   "cell_type": "code",
   "execution_count": 85,
   "metadata": {},
   "outputs": [
    {
     "data": {
      "text/plain": [
       "['flushed', ' crimson', ' rosy', ' pink', ' embarrassed']"
      ]
     },
     "execution_count": 85,
     "metadata": {},
     "output_type": "execute_result"
    }
   ],
   "source": [
    "chain.invoke({\"text\":\"blushed\"})"
   ]
  },
  {
   "cell_type": "code",
   "execution_count": 87,
   "metadata": {},
   "outputs": [
    {
     "data": {
      "text/plain": [
       "['feline', ' kitty', ' cat', ' moggy', ' puss']"
      ]
     },
     "execution_count": 87,
     "metadata": {},
     "output_type": "execute_result"
    }
   ],
   "source": [
    "chain.invoke({\"text\":\"pussy\"})"
   ]
  },
  {
   "cell_type": "code",
   "execution_count": 88,
   "metadata": {},
   "outputs": [
    {
     "data": {
      "text/plain": [
       "['love', ' cherish', ' admire', ' worship', ' treasure']"
      ]
     },
     "execution_count": 88,
     "metadata": {},
     "output_type": "execute_result"
    }
   ],
   "source": [
    "chain.invoke({\"text\":\"adore\"})"
   ]
  },
  {
   "cell_type": "code",
   "execution_count": 89,
   "metadata": {},
   "outputs": [
    {
     "data": {
      "text/plain": [
       "['flower', ' bloom', ' flourish', ' thrive', ' develop']"
      ]
     },
     "execution_count": 89,
     "metadata": {},
     "output_type": "execute_result"
    }
   ],
   "source": [
    "chain.invoke({\"text\":\"blossom\"})"
   ]
  },
  {
   "cell_type": "code",
   "execution_count": 90,
   "metadata": {},
   "outputs": [
    {
     "data": {
      "text/plain": [
       "['follower', ' enthusiast', ' supporter', ' admirer', ' disciple']"
      ]
     },
     "execution_count": 90,
     "metadata": {},
     "output_type": "execute_result"
    }
   ],
   "source": [
    "chain.invoke({\"text\":\"devotee\"})"
   ]
  },
  {
   "cell_type": "code",
   "execution_count": 91,
   "metadata": {},
   "outputs": [
    {
     "data": {
      "text/plain": [
       "['friar', ' brother', ' clergyman', ' religious', ' ascetic']"
      ]
     },
     "execution_count": 91,
     "metadata": {},
     "output_type": "execute_result"
    }
   ],
   "source": [
    "chain.invoke({\"text\":\"monk\"})"
   ]
  },
  {
   "cell_type": "code",
   "execution_count": 92,
   "metadata": {},
   "outputs": [
    {
     "data": {
      "text/plain": [
       "['MIA: absent', ' missing', ' gone', ' vanished', ' AWOL']"
      ]
     },
     "execution_count": 92,
     "metadata": {},
     "output_type": "execute_result"
    }
   ],
   "source": [
    "chain.invoke({\"text\":\"mia\"})"
   ]
  },
  {
   "cell_type": "code",
   "execution_count": 93,
   "metadata": {},
   "outputs": [
    {
     "data": {
      "text/plain": [
       "['ejaculate', ' orgasm', ' climax', ' seminal fluid', ' coitus']"
      ]
     },
     "execution_count": 93,
     "metadata": {},
     "output_type": "execute_result"
    }
   ],
   "source": [
    "chain.invoke({\"text\":\"cum\"})"
   ]
  },
  {
   "cell_type": "code",
   "execution_count": 94,
   "metadata": {},
   "outputs": [
    {
     "data": {
      "text/plain": [
       "['Krish', ' Christ', ' Kristen', ' Christy', ' Krista']"
      ]
     },
     "execution_count": 94,
     "metadata": {},
     "output_type": "execute_result"
    }
   ],
   "source": [
    "chain.invoke({\"text\":\"Krish\"})"
   ]
  },
  {
   "cell_type": "code",
   "execution_count": 95,
   "metadata": {},
   "outputs": [
    {
     "data": {
      "text/plain": [
       "['dog', ' hound', ' canine', ' pooch', ' mutt']"
      ]
     },
     "execution_count": 95,
     "metadata": {},
     "output_type": "execute_result"
    }
   ],
   "source": [
    "chain.invoke({\"text\":\"Kutra\"})"
   ]
  },
  {
   "cell_type": "code",
   "execution_count": 96,
   "metadata": {},
   "outputs": [
    {
     "data": {
      "text/plain": [
       "['dismal', ' bleak', ' grim', ' somber', ' dreary']"
      ]
     },
     "execution_count": 96,
     "metadata": {},
     "output_type": "execute_result"
    }
   ],
   "source": [
    "chain.invoke({\"text\":\"dukkar\"})"
   ]
  },
  {
   "cell_type": "code",
   "execution_count": 97,
   "metadata": {},
   "outputs": [
    {
     "data": {
      "text/plain": [
       "['hog', ' swine', ' porker', ' porcine', ' boar']"
      ]
     },
     "execution_count": 97,
     "metadata": {},
     "output_type": "execute_result"
    }
   ],
   "source": [
    "chain.invoke({\"text\":\"pig\"})"
   ]
  },
  {
   "cell_type": "code",
   "execution_count": null,
   "metadata": {},
   "outputs": [],
   "source": []
  }
 ],
 "metadata": {
  "kernelspec": {
   "display_name": "Python 3",
   "language": "python",
   "name": "python3"
  },
  "language_info": {
   "codemirror_mode": {
    "name": "ipython",
    "version": 3
   },
   "file_extension": ".py",
   "mimetype": "text/x-python",
   "name": "python",
   "nbconvert_exporter": "python",
   "pygments_lexer": "ipython3",
   "version": "3.11.6"
  }
 },
 "nbformat": 4,
 "nbformat_minor": 2
}
