{
 "cells": [
  {
   "cell_type": "code",
   "execution_count": null,
   "metadata": {},
   "outputs": [],
   "source": [
    "!pip install langchain\n",
    "!pip install pinecone-client\n",
    "!pip install pypdf\n",
    "!pip install openai\n",
    "!pip install tiktoken"
   ]
  },
  {
   "cell_type": "code",
   "execution_count": 1,
   "metadata": {},
   "outputs": [],
   "source": [
    "from langchain.document_loaders import PyPDFDirectoryLoader\n",
    "from langchain.text_splitter import RecursiveCharacterTextSplitter\n",
    "from langchain.embeddings import OpenAIEmbeddings\n",
    "from langchain.llms import OpenAI\n",
    "from langchain.vectorstores import Pinecone\n",
    "from langchain.chains import RetrievalQA\n",
    "from langchain.prompts import PromptTemplate\n",
    "import os"
   ]
  },
  {
   "cell_type": "code",
   "execution_count": 2,
   "metadata": {},
   "outputs": [],
   "source": [
    "!mkdir pdfs"
   ]
  },
  {
   "cell_type": "code",
   "execution_count": 3,
   "metadata": {},
   "outputs": [],
   "source": [
    "loader=PyPDFDirectoryLoader(\"pdfs\")"
   ]
  },
  {
   "cell_type": "code",
   "execution_count": 4,
   "metadata": {},
   "outputs": [],
   "source": [
    "data=loader.load()"
   ]
  },
  {
   "cell_type": "code",
   "execution_count": 5,
   "metadata": {},
   "outputs": [
    {
     "data": {
      "text/plain": [
       "Document(page_content='Deep Residual Learning for Image Recognition\\nKaiming He Xiangyu Zhang Shaoqing Ren Jian Sun\\nMicrosoft Research\\n{kahe, v-xiangz, v-shren, jiansun }@microsoft.com\\nAbstract\\nDeeper neural networks are more difﬁcult to train. We\\npresent a residual learning framework to ease the training\\nof networks that are substantially deeper than those used\\npreviously. We explicitly reformulate the layers as learn-\\ning residual functions with reference to the layer inputs, in-\\nstead of learning unreferenced functions. We provide com-\\nprehensive empirical evidence showing that these residual\\nnetworks are easier to optimize, and can gain accuracy from\\nconsiderably increased depth. On the ImageNet dataset we\\nevaluate residual nets with a depth of up to 152 layers—8 ×\\ndeeper than VGG nets [41] but still having lower complex-\\nity. An ensemble of these residual nets achieves 3.57% error\\non the ImageNet testset. This result won the 1st place on the\\nILSVRC 2015 classiﬁcation task. We also present analysis\\non CIFAR-10 with 100 and 1000 layers.\\nThe depth of representations is of central importance\\nfor many visual recognition tasks. Solely due to our ex-\\ntremely deep representations, we obtain a 28% relative im-\\nprovement on the COCO object detection dataset. Deep\\nresidual nets are foundations of our submissions to ILSVRC\\n& COCO 2015 competitions1, where we also won the 1st\\nplaces on the tasks of ImageNet detection, ImageNet local-\\nization, COCO detection, and COCO segmentation.\\n1. Introduction\\nDeep convolutional neural networks [22, 21] have led\\nto a series of breakthroughs for image classiﬁcation [21,\\n50, 40]. Deep networks naturally integrate low/mid/high-\\nlevel features [50] and classiﬁers in an end-to-end multi-\\nlayer fashion, and the “levels” of features can be enriched\\nby the number of stacked layers (depth). Recent evidence\\n[41, 44] reveals that network depth is of crucial importance,\\nand the leading results [41, 44, 13, 16] on the challenging\\nImageNet dataset [36] all exploit “very deep” [41] models,\\nwith a depth of sixteen [41] to thirty [16]. Many other non-\\ntrivial visual recognition tasks [8, 12, 7, 32, 27] have also\\n1http://image-net.org/challenges/LSVRC/2015/ and\\nhttp://mscoco.org/dataset/#detections-challenge2015 .\\n0 1 2 3 4 5 60 1020\\niter. (1e4)training error (%)\\n  \\n0 1 2 3 4 5 601020\\niter. (1e4)test error (%)\\n  \\n56-layer\\n20-layer56-layer\\n20-layerFigure 1. Training error (left) and test error (right) on CIFAR-10\\nwith 20-layer and 56-layer “plain” networks. The deeper network\\nhas higher training error, and thus test error. Similar phenomena\\non ImageNet is presented in Fig. 4.\\ngreatly beneﬁted from very deep models.\\nDriven by the signiﬁcance of depth, a question arises: Is\\nlearning better networks as easy as stacking more layers?\\nAn obstacle to answering this question was the notorious\\nproblem of vanishing/exploding gradients [1, 9], which\\nhamper convergence from the beginning. This problem,\\nhowever, has been largely addressed by normalized initial-\\nization [23, 9, 37, 13] and intermediate normalization layers\\n[16], which enable networks with tens of layers to start con-\\nverging for stochastic gradient descent (SGD) with back-\\npropagation [22].\\nWhen deeper networks are able to start converging, a\\ndegradation problem has been exposed: with the network\\ndepth increasing, accuracy gets saturated (which might be\\nunsurprising) and then degrades rapidly. Unexpectedly,\\nsuch degradation is not caused by overﬁtting , and adding\\nmore layers to a suitably deep model leads to higher train-\\ning error , as reported in [11, 42] and thoroughly veriﬁed by\\nour experiments. Fig. 1 shows a typical example.\\nThe degradation (of training accuracy) indicates that not\\nall systems are similarly easy to optimize. Let us consider a\\nshallower architecture and its deeper counterpart that adds\\nmore layers onto it. There exists a solution by construction\\nto the deeper model: the added layers are identity mapping,\\nand the other layers are copied from the learned shallower\\nmodel. The existence of this constructed solution indicates\\nthat a deeper model should produce no higher training error\\nthan its shallower counterpart. But experiments show that\\nour current solvers on hand are unable to ﬁnd solutions that\\n1arXiv:1512.03385v1  [cs.CV]  10 Dec 2015', metadata={'source': 'pdfs\\\\Deep Residual Learning for Image Recognition(ResNet).pdf', 'page': 0})"
      ]
     },
     "execution_count": 5,
     "metadata": {},
     "output_type": "execute_result"
    }
   ],
   "source": [
    "data[0]"
   ]
  },
  {
   "cell_type": "code",
   "execution_count": 6,
   "metadata": {},
   "outputs": [],
   "source": [
    "text_splitter = RecursiveCharacterTextSplitter(chunk_size=500, chunk_overlap=20)"
   ]
  },
  {
   "cell_type": "code",
   "execution_count": 7,
   "metadata": {},
   "outputs": [],
   "source": [
    "text_chunks = text_splitter.split_documents(data)"
   ]
  },
  {
   "cell_type": "code",
   "execution_count": 8,
   "metadata": {},
   "outputs": [
    {
     "data": {
      "text/plain": [
       "[Document(page_content='Deep Residual Learning for Image Recognition\\nKaiming He Xiangyu Zhang Shaoqing Ren Jian Sun\\nMicrosoft Research\\n{kahe, v-xiangz, v-shren, jiansun }@microsoft.com\\nAbstract\\nDeeper neural networks are more difﬁcult to train. We\\npresent a residual learning framework to ease the training\\nof networks that are substantially deeper than those used\\npreviously. We explicitly reformulate the layers as learn-\\ning residual functions with reference to the layer inputs, in-', metadata={'source': 'pdfs\\\\Deep Residual Learning for Image Recognition(ResNet).pdf', 'page': 0}),\n",
       " Document(page_content='stead of learning unreferenced functions. We provide com-\\nprehensive empirical evidence showing that these residual\\nnetworks are easier to optimize, and can gain accuracy from\\nconsiderably increased depth. On the ImageNet dataset we\\nevaluate residual nets with a depth of up to 152 layers—8 ×\\ndeeper than VGG nets [41] but still having lower complex-\\nity. An ensemble of these residual nets achieves 3.57% error\\non the ImageNet testset. This result won the 1st place on the', metadata={'source': 'pdfs\\\\Deep Residual Learning for Image Recognition(ResNet).pdf', 'page': 0}),\n",
       " Document(page_content='ILSVRC 2015 classiﬁcation task. We also present analysis\\non CIFAR-10 with 100 and 1000 layers.\\nThe depth of representations is of central importance\\nfor many visual recognition tasks. Solely due to our ex-\\ntremely deep representations, we obtain a 28% relative im-\\nprovement on the COCO object detection dataset. Deep\\nresidual nets are foundations of our submissions to ILSVRC\\n& COCO 2015 competitions1, where we also won the 1st\\nplaces on the tasks of ImageNet detection, ImageNet local-', metadata={'source': 'pdfs\\\\Deep Residual Learning for Image Recognition(ResNet).pdf', 'page': 0}),\n",
       " Document(page_content='ization, COCO detection, and COCO segmentation.\\n1. Introduction\\nDeep convolutional neural networks [22, 21] have led\\nto a series of breakthroughs for image classiﬁcation [21,\\n50, 40]. Deep networks naturally integrate low/mid/high-\\nlevel features [50] and classiﬁers in an end-to-end multi-\\nlayer fashion, and the “levels” of features can be enriched\\nby the number of stacked layers (depth). Recent evidence\\n[41, 44] reveals that network depth is of crucial importance,', metadata={'source': 'pdfs\\\\Deep Residual Learning for Image Recognition(ResNet).pdf', 'page': 0}),\n",
       " Document(page_content='and the leading results [41, 44, 13, 16] on the challenging\\nImageNet dataset [36] all exploit “very deep” [41] models,\\nwith a depth of sixteen [41] to thirty [16]. Many other non-\\ntrivial visual recognition tasks [8, 12, 7, 32, 27] have also\\n1http://image-net.org/challenges/LSVRC/2015/ and\\nhttp://mscoco.org/dataset/#detections-challenge2015 .\\n0 1 2 3 4 5 60 1020\\niter. (1e4)training error (%)\\n  \\n0 1 2 3 4 5 601020\\niter. (1e4)test error (%)\\n  \\n56-layer\\n20-layer56-layer', metadata={'source': 'pdfs\\\\Deep Residual Learning for Image Recognition(ResNet).pdf', 'page': 0}),\n",
       " Document(page_content='20-layer56-layer\\n20-layerFigure 1. Training error (left) and test error (right) on CIFAR-10\\nwith 20-layer and 56-layer “plain” networks. The deeper network\\nhas higher training error, and thus test error. Similar phenomena\\non ImageNet is presented in Fig. 4.\\ngreatly beneﬁted from very deep models.\\nDriven by the signiﬁcance of depth, a question arises: Is\\nlearning better networks as easy as stacking more layers?\\nAn obstacle to answering this question was the notorious', metadata={'source': 'pdfs\\\\Deep Residual Learning for Image Recognition(ResNet).pdf', 'page': 0}),\n",
       " Document(page_content='problem of vanishing/exploding gradients [1, 9], which\\nhamper convergence from the beginning. This problem,\\nhowever, has been largely addressed by normalized initial-\\nization [23, 9, 37, 13] and intermediate normalization layers\\n[16], which enable networks with tens of layers to start con-\\nverging for stochastic gradient descent (SGD) with back-\\npropagation [22].\\nWhen deeper networks are able to start converging, a\\ndegradation problem has been exposed: with the network', metadata={'source': 'pdfs\\\\Deep Residual Learning for Image Recognition(ResNet).pdf', 'page': 0}),\n",
       " Document(page_content='depth increasing, accuracy gets saturated (which might be\\nunsurprising) and then degrades rapidly. Unexpectedly,\\nsuch degradation is not caused by overﬁtting , and adding\\nmore layers to a suitably deep model leads to higher train-\\ning error , as reported in [11, 42] and thoroughly veriﬁed by\\nour experiments. Fig. 1 shows a typical example.\\nThe degradation (of training accuracy) indicates that not\\nall systems are similarly easy to optimize. Let us consider a', metadata={'source': 'pdfs\\\\Deep Residual Learning for Image Recognition(ResNet).pdf', 'page': 0}),\n",
       " Document(page_content='shallower architecture and its deeper counterpart that adds\\nmore layers onto it. There exists a solution by construction\\nto the deeper model: the added layers are identity mapping,\\nand the other layers are copied from the learned shallower\\nmodel. The existence of this constructed solution indicates\\nthat a deeper model should produce no higher training error\\nthan its shallower counterpart. But experiments show that\\nour current solvers on hand are unable to ﬁnd solutions that', metadata={'source': 'pdfs\\\\Deep Residual Learning for Image Recognition(ResNet).pdf', 'page': 0}),\n",
       " Document(page_content='1arXiv:1512.03385v1  [cs.CV]  10 Dec 2015', metadata={'source': 'pdfs\\\\Deep Residual Learning for Image Recognition(ResNet).pdf', 'page': 0}),\n",
       " Document(page_content='identityweight layer\\nweight layerrelu\\nreluF(x)\\x01+\\x01xx\\nF(x)xFigure 2. Residual learning: a building block.\\nare comparably good or better than the constructed solution\\n(or unable to do so in feasible time).\\nIn this paper, we address the degradation problem by\\nintroducing a deep residual learning framework. In-\\nstead of hoping each few stacked layers directly ﬁt a\\ndesired underlying mapping, we explicitly let these lay-\\ners ﬁt a residual mapping. Formally, denoting the desired', metadata={'source': 'pdfs\\\\Deep Residual Learning for Image Recognition(ResNet).pdf', 'page': 1}),\n",
       " Document(page_content='underlying mapping as H(x), we let the stacked nonlinear\\nlayers ﬁt another mapping of F(x) :=H(x)−x. The orig-\\ninal mapping is recast into F(x)+x. We hypothesize that it\\nis easier to optimize the residual mapping than to optimize\\nthe original, unreferenced mapping. To the extreme, if an\\nidentity mapping were optimal, it would be easier to push\\nthe residual to zero than to ﬁt an identity mapping by a stack\\nof nonlinear layers.\\nThe formulation of F(x)+xcan be realized by feedfor-', metadata={'source': 'pdfs\\\\Deep Residual Learning for Image Recognition(ResNet).pdf', 'page': 1}),\n",
       " Document(page_content='ward neural networks with “shortcut connections” (Fig. 2).\\nShortcut connections [2, 34, 49] are those skipping one or\\nmore layers. In our case, the shortcut connections simply\\nperform identity mapping, and their outputs are added to\\nthe outputs of the stacked layers (Fig. 2). Identity short-\\ncut connections add neither extra parameter nor computa-\\ntional complexity. The entire network can still be trained\\nend-to-end by SGD with backpropagation, and can be eas-', metadata={'source': 'pdfs\\\\Deep Residual Learning for Image Recognition(ResNet).pdf', 'page': 1}),\n",
       " Document(page_content='ily implemented using common libraries ( e.g., Caffe [19])\\nwithout modifying the solvers.\\nWe present comprehensive experiments on ImageNet\\n[36] to show the degradation problem and evaluate our\\nmethod. We show that: 1) Our extremely deep residual nets\\nare easy to optimize, but the counterpart “plain” nets (that\\nsimply stack layers) exhibit higher training error when the\\ndepth increases; 2) Our deep residual nets can easily enjoy\\naccuracy gains from greatly increased depth, producing re-', metadata={'source': 'pdfs\\\\Deep Residual Learning for Image Recognition(ResNet).pdf', 'page': 1}),\n",
       " Document(page_content='sults substantially better than previous networks.\\nSimilar phenomena are also shown on the CIFAR-10 set\\n[20], suggesting that the optimization difﬁculties and the\\neffects of our method are not just akin to a particular dataset.\\nWe present successfully trained models on this dataset with\\nover 100 layers, and explore models with over 1000 layers.\\nOn the ImageNet classiﬁcation dataset [36], we obtain\\nexcellent results by extremely deep residual nets. Our 152-', metadata={'source': 'pdfs\\\\Deep Residual Learning for Image Recognition(ResNet).pdf', 'page': 1}),\n",
       " Document(page_content='layer residual net is the deepest network ever presented on\\nImageNet, while still having lower complexity than VGG\\nnets [41]. Our ensemble has 3.57% top-5 error on theImageNet testset, and won the 1st place in the ILSVRC\\n2015 classiﬁcation competition . The extremely deep rep-\\nresentations also have excellent generalization performance\\non other recognition tasks, and lead us to further win the\\n1st places on: ImageNet detection, ImageNet localization,', metadata={'source': 'pdfs\\\\Deep Residual Learning for Image Recognition(ResNet).pdf', 'page': 1}),\n",
       " Document(page_content='COCO detection, and COCO segmentation in ILSVRC &\\nCOCO 2015 competitions. This strong evidence shows that\\nthe residual learning principle is generic, and we expect that\\nit is applicable in other vision and non-vision problems.\\n2. Related Work\\nResidual Representations. In image recognition, VLAD\\n[18] is a representation that encodes by the residual vectors\\nwith respect to a dictionary, and Fisher Vector [30] can be\\nformulated as a probabilistic version [18] of VLAD. Both', metadata={'source': 'pdfs\\\\Deep Residual Learning for Image Recognition(ResNet).pdf', 'page': 1}),\n",
       " Document(page_content='of them are powerful shallow representations for image re-\\ntrieval and classiﬁcation [4, 48]. For vector quantization,\\nencoding residual vectors [17] is shown to be more effec-\\ntive than encoding original vectors.\\nIn low-level vision and computer graphics, for solv-\\ning Partial Differential Equations (PDEs), the widely used\\nMultigrid method [3] reformulates the system as subprob-\\nlems at multiple scales, where each subproblem is respon-', metadata={'source': 'pdfs\\\\Deep Residual Learning for Image Recognition(ResNet).pdf', 'page': 1}),\n",
       " Document(page_content='sible for the residual solution between a coarser and a ﬁner\\nscale. An alternative to Multigrid is hierarchical basis pre-\\nconditioning [45, 46], which relies on variables that repre-\\nsent residual vectors between two scales. It has been shown\\n[3, 45, 46] that these solvers converge much faster than stan-\\ndard solvers that are unaware of the residual nature of the\\nsolutions. These methods suggest that a good reformulation\\nor preconditioning can simplify the optimization.', metadata={'source': 'pdfs\\\\Deep Residual Learning for Image Recognition(ResNet).pdf', 'page': 1}),\n",
       " Document(page_content='Shortcut Connections. Practices and theories that lead to\\nshortcut connections [2, 34, 49] have been studied for a long\\ntime. An early practice of training multi-layer perceptrons\\n(MLPs) is to add a linear layer connected from the network\\ninput to the output [34, 49]. In [44, 24], a few interme-\\ndiate layers are directly connected to auxiliary classiﬁers\\nfor addressing vanishing/exploding gradients. The papers\\nof [39, 38, 31, 47] propose methods for centering layer re-', metadata={'source': 'pdfs\\\\Deep Residual Learning for Image Recognition(ResNet).pdf', 'page': 1}),\n",
       " Document(page_content='sponses, gradients, and propagated errors, implemented by\\nshortcut connections. In [44], an “inception” layer is com-\\nposed of a shortcut branch and a few deeper branches.\\nConcurrent with our work, “highway networks” [42, 43]\\npresent shortcut connections with gating functions [15].\\nThese gates are data-dependent and have parameters, in\\ncontrast to our identity shortcuts that are parameter-free.\\nWhen a gated shortcut is “closed” (approaching zero), the', metadata={'source': 'pdfs\\\\Deep Residual Learning for Image Recognition(ResNet).pdf', 'page': 1}),\n",
       " Document(page_content='layers in highway networks represent non-residual func-\\ntions. On the contrary, our formulation always learns\\nresidual functions; our identity shortcuts are never closed,\\nand all information is always passed through, with addi-\\ntional residual functions to be learned. In addition, high-\\n2', metadata={'source': 'pdfs\\\\Deep Residual Learning for Image Recognition(ResNet).pdf', 'page': 1}),\n",
       " Document(page_content='way networks have not demonstrated accuracy gains with\\nextremely increased depth ( e.g., over 100 layers).\\n3. Deep Residual Learning\\n3.1. Residual Learning\\nLet us considerH(x)as an underlying mapping to be\\nﬁt by a few stacked layers (not necessarily the entire net),\\nwithxdenoting the inputs to the ﬁrst of these layers. If one\\nhypothesizes that multiple nonlinear layers can asymptoti-\\ncally approximate complicated functions2, then it is equiv-', metadata={'source': 'pdfs\\\\Deep Residual Learning for Image Recognition(ResNet).pdf', 'page': 2}),\n",
       " Document(page_content='alent to hypothesize that they can asymptotically approxi-\\nmate the residual functions, i.e.,H(x)−x(assuming that\\nthe input and output are of the same dimensions). So\\nrather than expect stacked layers to approximate H(x), we\\nexplicitly let these layers approximate a residual function\\nF(x) :=H(x)−x. The original function thus becomes\\nF(x)+x. Although both forms should be able to asymptot-\\nically approximate the desired functions (as hypothesized),\\nthe ease of learning might be different.', metadata={'source': 'pdfs\\\\Deep Residual Learning for Image Recognition(ResNet).pdf', 'page': 2}),\n",
       " Document(page_content='This reformulation is motivated by the counterintuitive\\nphenomena about the degradation problem (Fig. 1, left). As\\nwe discussed in the introduction, if the added layers can\\nbe constructed as identity mappings, a deeper model should\\nhave training error no greater than its shallower counter-\\npart. The degradation problem suggests that the solvers\\nmight have difﬁculties in approximating identity mappings\\nby multiple nonlinear layers. With the residual learning re-', metadata={'source': 'pdfs\\\\Deep Residual Learning for Image Recognition(ResNet).pdf', 'page': 2}),\n",
       " Document(page_content='formulation, if identity mappings are optimal, the solvers\\nmay simply drive the weights of the multiple nonlinear lay-\\ners toward zero to approach identity mappings.\\nIn real cases, it is unlikely that identity mappings are op-\\ntimal, but our reformulation may help to precondition the\\nproblem. If the optimal function is closer to an identity\\nmapping than to a zero mapping, it should be easier for the\\nsolver to ﬁnd the perturbations with reference to an identity', metadata={'source': 'pdfs\\\\Deep Residual Learning for Image Recognition(ResNet).pdf', 'page': 2}),\n",
       " Document(page_content='mapping, than to learn the function as a new one. We show\\nby experiments (Fig. 7) that the learned residual functions in\\ngeneral have small responses, suggesting that identity map-\\npings provide reasonable preconditioning.\\n3.2. Identity Mapping by Shortcuts\\nWe adopt residual learning to every few stacked layers.\\nA building block is shown in Fig. 2. Formally, in this paper\\nwe consider a building block deﬁned as:\\ny=F(x,{Wi}) +x. (1)\\nHere xandyare the input and output vectors of the lay-', metadata={'source': 'pdfs\\\\Deep Residual Learning for Image Recognition(ResNet).pdf', 'page': 2}),\n",
       " Document(page_content='ers considered. The function F(x,{Wi})represents the\\nresidual mapping to be learned. For the example in Fig. 2\\nthat has two layers, F=W2σ(W1x)in whichσdenotes\\n2This hypothesis, however, is still an open question. See [28].ReLU [29] and the biases are omitted for simplifying no-\\ntations. The operation F+xis performed by a shortcut\\nconnection and element-wise addition. We adopt the sec-\\nond nonlinearity after the addition ( i.e.,σ(y), see Fig. 2).', metadata={'source': 'pdfs\\\\Deep Residual Learning for Image Recognition(ResNet).pdf', 'page': 2}),\n",
       " Document(page_content='The shortcut connections in Eqn.(1) introduce neither ex-\\ntra parameter nor computation complexity. This is not only\\nattractive in practice but also important in our comparisons\\nbetween plain and residual networks. We can fairly com-\\npare plain/residual networks that simultaneously have the\\nsame number of parameters, depth, width, and computa-\\ntional cost (except for the negligible element-wise addition).\\nThe dimensions of xandFmust be equal in Eqn.(1).', metadata={'source': 'pdfs\\\\Deep Residual Learning for Image Recognition(ResNet).pdf', 'page': 2}),\n",
       " Document(page_content='If this is not the case ( e.g., when changing the input/output\\nchannels), we can perform a linear projection Wsby the\\nshortcut connections to match the dimensions:\\ny=F(x,{Wi}) +Wsx. (2)\\nWe can also use a square matrix Wsin Eqn.(1). But we will\\nshow by experiments that the identity mapping is sufﬁcient\\nfor addressing the degradation problem and is economical,\\nand thusWsis only used when matching dimensions.\\nThe form of the residual function Fis ﬂexible. Exper-', metadata={'source': 'pdfs\\\\Deep Residual Learning for Image Recognition(ResNet).pdf', 'page': 2}),\n",
       " Document(page_content='iments in this paper involve a function Fthat has two or\\nthree layers (Fig. 5), while more layers are possible. But if\\nFhas only a single layer, Eqn.(1) is similar to a linear layer:\\ny=W1x+x, for which we have not observed advantages.\\nWe also note that although the above notations are about\\nfully-connected layers for simplicity, they are applicable to\\nconvolutional layers. The function F(x,{Wi})can repre-\\nsent multiple convolutional layers. The element-wise addi-', metadata={'source': 'pdfs\\\\Deep Residual Learning for Image Recognition(ResNet).pdf', 'page': 2}),\n",
       " Document(page_content='tion is performed on two feature maps, channel by channel.\\n3.3. Network Architectures\\nWe have tested various plain/residual nets, and have ob-\\nserved consistent phenomena. To provide instances for dis-\\ncussion, we describe two models for ImageNet as follows.\\nPlain Network. Our plain baselines (Fig. 3, middle) are\\nmainly inspired by the philosophy of VGG nets [41] (Fig. 3,\\nleft). The convolutional layers mostly have 3 ×3 ﬁlters and\\nfollow two simple design rules: (i) for the same output', metadata={'source': 'pdfs\\\\Deep Residual Learning for Image Recognition(ResNet).pdf', 'page': 2}),\n",
       " Document(page_content='feature map size, the layers have the same number of ﬁl-\\nters; and (ii) if the feature map size is halved, the num-\\nber of ﬁlters is doubled so as to preserve the time com-\\nplexity per layer. We perform downsampling directly by\\nconvolutional layers that have a stride of 2. The network\\nends with a global average pooling layer and a 1000-way\\nfully-connected layer with softmax. The total number of\\nweighted layers is 34 in Fig. 3 (middle).\\nIt is worth noticing that our model has fewer ﬁlters and', metadata={'source': 'pdfs\\\\Deep Residual Learning for Image Recognition(ResNet).pdf', 'page': 2}),\n",
       " Document(page_content='lower complexity than VGG nets [41] (Fig. 3, left). Our 34-\\nlayer baseline has 3.6 billion FLOPs (multiply-adds), which\\nis only 18% of VGG-19 (19.6 billion FLOPs).\\n3', metadata={'source': 'pdfs\\\\Deep Residual Learning for Image Recognition(ResNet).pdf', 'page': 2}),\n",
       " Document(page_content='7x7 conv, 64, /2\\npool, /2\\n3x3 conv, 64\\n3x3 conv, 64\\n3x3 conv, 64\\n3x3 conv, 64\\n3x3 conv, 64\\n3x3 conv, 64\\n3x3 conv, 128, /2\\n3x3 conv, 128\\n3x3 conv, 128\\n3x3 conv, 128\\n3x3 conv, 128\\n3x3 conv, 128\\n3x3 conv, 128\\n3x3 conv, 128\\n3x3 conv, 256, /2\\n3x3 conv, 256\\n3x3 conv, 256\\n3x3 conv, 256\\n3x3 conv, 256\\n3x3 conv, 256\\n3x3 conv, 256\\n3x3 conv, 256\\n3x3 conv, 256\\n3x3 conv, 256\\n3x3 conv, 256\\n3x3 conv, 256\\n3x3 conv, 512, /2\\n3x3 conv, 512\\n3x3 conv, 512\\n3x3 conv, 512\\n3x3 conv, 512\\n3x3 conv, 512\\navg pool', metadata={'source': 'pdfs\\\\Deep Residual Learning for Image Recognition(ResNet).pdf', 'page': 3}),\n",
       " Document(page_content='avg pool\\nfc 1000image\\n3x3 conv, 5123x3 conv, 64\\n3x3 conv, 64\\npool, /2\\n3x3 conv, 128\\n3x3 conv, 128\\npool, /2\\n3x3 conv, 256\\n3x3 conv, 256\\n3x3 conv, 256\\n3x3 conv, 256\\npool, /2\\n3x3 conv, 512\\n3x3 conv, 512\\n3x3 conv, 512\\npool, /2\\n3x3 conv, 512\\n3x3 conv, 512\\n3x3 conv, 512\\n3x3 conv, 512\\npool, /2\\nfc 4096\\nfc 4096\\nfc 1000image\\noutput \\nsize: 112output \\nsize: 224\\noutput \\nsize: 56\\noutput \\nsize: 28\\noutput \\nsize: 14\\noutput \\nsize: 7\\noutput \\nsize: 1VGG-19 34-layer plain\\n7x7 conv, 64, /2\\npool, /2\\n3x3 conv, 64', metadata={'source': 'pdfs\\\\Deep Residual Learning for Image Recognition(ResNet).pdf', 'page': 3}),\n",
       " Document(page_content='3x3 conv, 64\\n3x3 conv, 64\\n3x3 conv, 64\\n3x3 conv, 64\\n3x3 conv, 64\\n3x3 conv, 64\\n3x3 conv, 128, /2\\n3x3 conv, 128\\n3x3 conv, 128\\n3x3 conv, 128\\n3x3 conv, 128\\n3x3 conv, 128\\n3x3 conv, 128\\n3x3 conv, 128\\n3x3 conv, 256, /2\\n3x3 conv, 256\\n3x3 conv, 256\\n3x3 conv, 256\\n3x3 conv, 256\\n3x3 conv, 256\\n3x3 conv, 256\\n3x3 conv, 256\\n3x3 conv, 256\\n3x3 conv, 256\\n3x3 conv, 256\\n3x3 conv, 256\\n3x3 conv, 512, /2\\n3x3 conv, 512\\n3x3 conv, 512\\n3x3 conv, 512\\n3x3 conv, 512\\n3x3 conv, 512\\navg pool', metadata={'source': 'pdfs\\\\Deep Residual Learning for Image Recognition(ResNet).pdf', 'page': 3}),\n",
       " Document(page_content='avg pool\\nfc 1000image34-layer residualFigure 3. Example network architectures for ImageNet. Left: the\\nVGG-19 model [41] (19.6 billion FLOPs) as a reference. Mid-\\ndle: a plain network with 34 parameter layers (3.6 billion FLOPs).\\nRight : a residual network with 34 parameter layers (3.6 billion\\nFLOPs). The dotted shortcuts increase dimensions. Table 1 shows\\nmore details and other variants.Residual Network. Based on the above plain network, we', metadata={'source': 'pdfs\\\\Deep Residual Learning for Image Recognition(ResNet).pdf', 'page': 3}),\n",
       " Document(page_content='insert shortcut connections (Fig. 3, right) which turn the\\nnetwork into its counterpart residual version. The identity\\nshortcuts (Eqn.(1)) can be directly used when the input and\\noutput are of the same dimensions (solid line shortcuts in\\nFig. 3). When the dimensions increase (dotted line shortcuts\\nin Fig. 3), we consider two options: (A) The shortcut still\\nperforms identity mapping, with extra zero entries padded\\nfor increasing dimensions. This option introduces no extra', metadata={'source': 'pdfs\\\\Deep Residual Learning for Image Recognition(ResNet).pdf', 'page': 3}),\n",
       " Document(page_content='parameter; (B) The projection shortcut in Eqn.(2) is used to\\nmatch dimensions (done by 1 ×1 convolutions). For both\\noptions, when the shortcuts go across feature maps of two\\nsizes, they are performed with a stride of 2.\\n3.4. Implementation\\nOur implementation for ImageNet follows the practice\\nin [21, 41]. The image is resized with its shorter side ran-\\ndomly sampled in [256,480] for scale augmentation [41].\\nA 224×224 crop is randomly sampled from an image or its', metadata={'source': 'pdfs\\\\Deep Residual Learning for Image Recognition(ResNet).pdf', 'page': 3}),\n",
       " Document(page_content='horizontal ﬂip, with the per-pixel mean subtracted [21]. The\\nstandard color augmentation in [21] is used. We adopt batch\\nnormalization (BN) [16] right after each convolution and\\nbefore activation, following [16]. We initialize the weights\\nas in [13] and train all plain/residual nets from scratch. We\\nuse SGD with a mini-batch size of 256. The learning rate\\nstarts from 0.1 and is divided by 10 when the error plateaus,\\nand the models are trained for up to 60×104iterations. We', metadata={'source': 'pdfs\\\\Deep Residual Learning for Image Recognition(ResNet).pdf', 'page': 3}),\n",
       " Document(page_content='use a weight decay of 0.0001 and a momentum of 0.9. We\\ndo not use dropout [14], following the practice in [16].\\nIn testing, for comparison studies we adopt the standard\\n10-crop testing [21]. For best results, we adopt the fully-\\nconvolutional form as in [41, 13], and average the scores\\nat multiple scales (images are resized such that the shorter\\nside is in{224,256,384,480,640}).\\n4. Experiments\\n4.1. ImageNet Classiﬁcation\\nWe evaluate our method on the ImageNet 2012 classiﬁ-', metadata={'source': 'pdfs\\\\Deep Residual Learning for Image Recognition(ResNet).pdf', 'page': 3}),\n",
       " Document(page_content='cation dataset [36] that consists of 1000 classes. The models\\nare trained on the 1.28 million training images, and evalu-\\nated on the 50k validation images. We also obtain a ﬁnal\\nresult on the 100k test images, reported by the test server.\\nWe evaluate both top-1 and top-5 error rates.\\nPlain Networks. We ﬁrst evaluate 18-layer and 34-layer\\nplain nets. The 34-layer plain net is in Fig. 3 (middle). The\\n18-layer plain net is of a similar form. See Table 1 for de-\\ntailed architectures.', metadata={'source': 'pdfs\\\\Deep Residual Learning for Image Recognition(ResNet).pdf', 'page': 3}),\n",
       " Document(page_content='The results in Table 2 show that the deeper 34-layer plain\\nnet has higher validation error than the shallower 18-layer\\nplain net. To reveal the reasons, in Fig. 4 (left) we com-\\npare their training/validation errors during the training pro-\\ncedure. We have observed the degradation problem - the\\n4', metadata={'source': 'pdfs\\\\Deep Residual Learning for Image Recognition(ResNet).pdf', 'page': 3}),\n",
       " Document(page_content='layer name output size 18-layer 34-layer 50-layer 101-layer 152-layer\\nconv1 112×112 7×7, 64, stride 2\\nconv2 x 56×563×3 max pool, stride 2\\n[\\n3×3, 64\\n3×3, 64]\\n×2[\\n3×3, 64\\n3×3, 64]\\n×3\\uf8ee\\n\\uf8f01×1, 64\\n3×3, 64\\n1×1, 256\\uf8f9\\n\\uf8fb×3\\uf8ee\\n\\uf8f01×1, 64\\n3×3, 64\\n1×1, 256\\uf8f9\\n\\uf8fb×3\\uf8ee\\n\\uf8f01×1, 64\\n3×3, 64\\n1×1, 256\\uf8f9\\n\\uf8fb×3\\nconv3 x 28×28[\\n3×3, 128\\n3×3, 128]\\n×2[\\n3×3, 128\\n3×3, 128]\\n×4\\uf8ee\\n\\uf8f01×1, 128\\n3×3, 128\\n1×1, 512\\uf8f9\\n\\uf8fb×4\\uf8ee\\n\\uf8f01×1, 128\\n3×3, 128\\n1×1, 512\\uf8f9\\n\\uf8fb×4\\uf8ee\\n\\uf8f01×1, 128\\n3×3, 128\\n1×1, 512\\uf8f9\\n\\uf8fb×8\\nconv4 x 14×14[\\n3×3, 256\\n3×3, 256]\\n×2[\\n3×3, 256\\n3×3, 256]\\n×6\\uf8ee', metadata={'source': 'pdfs\\\\Deep Residual Learning for Image Recognition(ResNet).pdf', 'page': 4}),\n",
       " Document(page_content='3×3, 256]\\n×6\\uf8ee\\n\\uf8f01×1, 256\\n3×3, 256\\n1×1, 1024\\uf8f9\\n\\uf8fb×6\\uf8ee\\n\\uf8f01×1, 256\\n3×3, 256\\n1×1, 1024\\uf8f9\\n\\uf8fb×23\\uf8ee\\n\\uf8f01×1, 256\\n3×3, 256\\n1×1, 1024\\uf8f9\\n\\uf8fb×36\\nconv5 x 7×7[\\n3×3, 512\\n3×3, 512]\\n×2[\\n3×3, 512\\n3×3, 512]\\n×3\\uf8ee\\n\\uf8f01×1, 512\\n3×3, 512\\n1×1, 2048\\uf8f9\\n\\uf8fb×3\\uf8ee\\n\\uf8f01×1, 512\\n3×3, 512\\n1×1, 2048\\uf8f9\\n\\uf8fb×3\\uf8ee\\n\\uf8f01×1, 512\\n3×3, 512\\n1×1, 2048\\uf8f9\\n\\uf8fb×3\\n1×1 average pool, 1000-d fc, softmax\\nFLOPs 1.8×1093.6×1093.8×1097.6×10911.3×109\\nTable 1. Architectures for ImageNet. Building blocks are shown in brackets (see also Fig. 5), with the numbers of blocks stacked. Down-', metadata={'source': 'pdfs\\\\Deep Residual Learning for Image Recognition(ResNet).pdf', 'page': 4}),\n",
       " Document(page_content='sampling is performed by conv3 1, conv4 1, and conv5 1 with a stride of 2.\\n0 10 20 30 40 502030405060\\niter. (1e4)error (%)\\n  \\nplain-18\\nplain-34\\n0 10 20 30 40 502030405060\\niter. (1e4)error (%)\\n  \\nResNet-18\\nResNet-3418-layer34-layer\\n18-layer\\n34-layer\\nFigure 4. Training on ImageNet . Thin curves denote training error, and bold curves denote validation error of the center crops. Left: plain', metadata={'source': 'pdfs\\\\Deep Residual Learning for Image Recognition(ResNet).pdf', 'page': 4}),\n",
       " Document(page_content='networks of 18 and 34 layers. Right: ResNets of 18 and 34 layers. In this plot, the residual networks have no extra parameter compared to\\ntheir plain counterparts.\\nplain ResNet\\n18 layers 27.94 27.88\\n34 layers 28.54 25.03\\nTable 2. Top-1 error (%, 10-crop testing) on ImageNet validation.\\nHere the ResNets have no extra parameter compared to their plain\\ncounterparts. Fig. 4 shows the training procedures.\\n34-layer plain net has higher training error throughout the', metadata={'source': 'pdfs\\\\Deep Residual Learning for Image Recognition(ResNet).pdf', 'page': 4}),\n",
       " Document(page_content='whole training procedure, even though the solution space\\nof the 18-layer plain network is a subspace of that of the\\n34-layer one.\\nWe argue that this optimization difﬁculty is unlikely to\\nbe caused by vanishing gradients. These plain networks are\\ntrained with BN [16], which ensures forward propagated\\nsignals to have non-zero variances. We also verify that the\\nbackward propagated gradients exhibit healthy norms with\\nBN. So neither forward nor backward signals vanish. In', metadata={'source': 'pdfs\\\\Deep Residual Learning for Image Recognition(ResNet).pdf', 'page': 4}),\n",
       " Document(page_content='fact, the 34-layer plain net is still able to achieve compet-\\nitive accuracy (Table 3), suggesting that the solver works\\nto some extent. We conjecture that the deep plain nets may\\nhave exponentially low convergence rates, which impact thereducing of the training error3. The reason for such opti-\\nmization difﬁculties will be studied in the future.\\nResidual Networks. Next we evaluate 18-layer and 34-\\nlayer residual nets ( ResNets ). The baseline architectures', metadata={'source': 'pdfs\\\\Deep Residual Learning for Image Recognition(ResNet).pdf', 'page': 4}),\n",
       " Document(page_content='are the same as the above plain nets, expect that a shortcut\\nconnection is added to each pair of 3 ×3 ﬁlters as in Fig. 3\\n(right). In the ﬁrst comparison (Table 2 and Fig. 4 right),\\nwe use identity mapping for all shortcuts and zero-padding\\nfor increasing dimensions (option A). So they have no extra\\nparameter compared to the plain counterparts.\\nWe have three major observations from Table 2 and\\nFig. 4. First, the situation is reversed with residual learn-', metadata={'source': 'pdfs\\\\Deep Residual Learning for Image Recognition(ResNet).pdf', 'page': 4}),\n",
       " Document(page_content='ing – the 34-layer ResNet is better than the 18-layer ResNet\\n(by 2.8%). More importantly, the 34-layer ResNet exhibits\\nconsiderably lower training error and is generalizable to the\\nvalidation data. This indicates that the degradation problem\\nis well addressed in this setting and we manage to obtain\\naccuracy gains from increased depth.\\nSecond, compared to its plain counterpart, the 34-layer\\n3We have experimented with more training iterations (3 ×) and still ob-', metadata={'source': 'pdfs\\\\Deep Residual Learning for Image Recognition(ResNet).pdf', 'page': 4}),\n",
       " Document(page_content='served the degradation problem, suggesting that this problem cannot be\\nfeasibly addressed by simply using more iterations.\\n5', metadata={'source': 'pdfs\\\\Deep Residual Learning for Image Recognition(ResNet).pdf', 'page': 4}),\n",
       " Document(page_content='model top-1 err. top-5 err.\\nVGG-16 [41] 28.07 9.33\\nGoogLeNet [44] - 9.15\\nPReLU-net [13] 24.27 7.38\\nplain-34 28.54 10.02\\nResNet-34 A 25.03 7.76\\nResNet-34 B 24.52 7.46\\nResNet-34 C 24.19 7.40\\nResNet-50 22.85 6.71\\nResNet-101 21.75 6.05\\nResNet-152 21.43 5.71\\nTable 3. Error rates (%, 10-crop testing) on ImageNet validation.\\nVGG-16 is based on our test. ResNet-50/101/152 are of option B\\nthat only uses projections for increasing dimensions.\\nmethod top-1 err. top-5 err.\\nVGG [41] (ILSVRC’14) - 8.43†', metadata={'source': 'pdfs\\\\Deep Residual Learning for Image Recognition(ResNet).pdf', 'page': 5}),\n",
       " Document(page_content='GoogLeNet [44] (ILSVRC’14) - 7.89\\nVGG [41] (v5) 24.4 7.1\\nPReLU-net [13] 21.59 5.71\\nBN-inception [16] 21.99 5.81\\nResNet-34 B 21.84 5.71\\nResNet-34 C 21.53 5.60\\nResNet-50 20.74 5.25\\nResNet-101 19.87 4.60\\nResNet-152 19.38 4.49\\nTable 4. Error rates (%) of single-model results on the ImageNet\\nvalidation set (except†reported on the test set).\\nmethod top-5 err. ( test)\\nVGG [41] (ILSVRC’14) 7.32\\nGoogLeNet [44] (ILSVRC’14) 6.66\\nVGG [41] (v5) 6.8\\nPReLU-net [13] 4.94\\nBN-inception [16] 4.82', metadata={'source': 'pdfs\\\\Deep Residual Learning for Image Recognition(ResNet).pdf', 'page': 5}),\n",
       " Document(page_content='ResNet (ILSVRC’15) 3.57\\nTable 5. Error rates (%) of ensembles . The top-5 error is on the\\ntest set of ImageNet and reported by the test server.\\nResNet reduces the top-1 error by 3.5% (Table 2), resulting\\nfrom the successfully reduced training error (Fig. 4 right vs.\\nleft). This comparison veriﬁes the effectiveness of residual\\nlearning on extremely deep systems.\\nLast, we also note that the 18-layer plain/residual nets\\nare comparably accurate (Table 2), but the 18-layer ResNet', metadata={'source': 'pdfs\\\\Deep Residual Learning for Image Recognition(ResNet).pdf', 'page': 5}),\n",
       " Document(page_content='converges faster (Fig. 4 right vs. left). When the net is “not\\noverly deep” (18 layers here), the current SGD solver is still\\nable to ﬁnd good solutions to the plain net. In this case, the\\nResNet eases the optimization by providing faster conver-\\ngence at the early stage.\\nIdentity vs. Projection Shortcuts. We have shown that\\n3x3, 641x1, 64\\nrelu\\n1x1, 256relu\\nrelu3x3, 64\\n3x3, 64\\nrelurelu64-d 256-dFigure 5. A deeper residual function Ffor ImageNet. Left: a', metadata={'source': 'pdfs\\\\Deep Residual Learning for Image Recognition(ResNet).pdf', 'page': 5}),\n",
       " Document(page_content='building block (on 56 ×56 feature maps) as in Fig. 3 for ResNet-\\n34. Right: a “bottleneck” building block for ResNet-50/101/152.\\nparameter-free, identity shortcuts help with training. Next\\nwe investigate projection shortcuts (Eqn.(2)). In Table 3 we\\ncompare three options: (A) zero-padding shortcuts are used\\nfor increasing dimensions, and all shortcuts are parameter-\\nfree (the same as Table 2 and Fig. 4 right); (B) projec-\\ntion shortcuts are used for increasing dimensions, and other', metadata={'source': 'pdfs\\\\Deep Residual Learning for Image Recognition(ResNet).pdf', 'page': 5}),\n",
       " Document(page_content='shortcuts are identity; and (C) all shortcuts are projections.\\nTable 3 shows that all three options are considerably bet-\\nter than the plain counterpart. B is slightly better than A. We\\nargue that this is because the zero-padded dimensions in A\\nindeed have no residual learning. C is marginally better than\\nB, and we attribute this to the extra parameters introduced\\nby many (thirteen) projection shortcuts. But the small dif-\\nferences among A/B/C indicate that projection shortcuts are', metadata={'source': 'pdfs\\\\Deep Residual Learning for Image Recognition(ResNet).pdf', 'page': 5}),\n",
       " Document(page_content='not essential for addressing the degradation problem. So we\\ndo not use option C in the rest of this paper, to reduce mem-\\nory/time complexity and model sizes. Identity shortcuts are\\nparticularly important for not increasing the complexity of\\nthe bottleneck architectures that are introduced below.\\nDeeper Bottleneck Architectures. Next we describe our\\ndeeper nets for ImageNet. Because of concerns on the train-\\ning time that we can afford, we modify the building block', metadata={'source': 'pdfs\\\\Deep Residual Learning for Image Recognition(ResNet).pdf', 'page': 5}),\n",
       " Document(page_content='as a bottleneck design4. For each residual function F, we\\nuse a stack of 3 layers instead of 2 (Fig. 5). The three layers\\nare 1×1, 3×3, and 1×1 convolutions, where the 1 ×1 layers\\nare responsible for reducing and then increasing (restoring)\\ndimensions, leaving the 3 ×3 layer a bottleneck with smaller\\ninput/output dimensions. Fig. 5 shows an example, where\\nboth designs have similar time complexity.\\nThe parameter-free identity shortcuts are particularly im-', metadata={'source': 'pdfs\\\\Deep Residual Learning for Image Recognition(ResNet).pdf', 'page': 5}),\n",
       " Document(page_content='portant for the bottleneck architectures. If the identity short-\\ncut in Fig. 5 (right) is replaced with projection, one can\\nshow that the time complexity and model size are doubled,\\nas the shortcut is connected to the two high-dimensional\\nends. So identity shortcuts lead to more efﬁcient models\\nfor the bottleneck designs.\\n50-layer ResNet: We replace each 2-layer block in the\\n4Deeper non-bottleneck ResNets ( e.g., Fig. 5 left) also gain accuracy', metadata={'source': 'pdfs\\\\Deep Residual Learning for Image Recognition(ResNet).pdf', 'page': 5}),\n",
       " Document(page_content='from increased depth (as shown on CIFAR-10), but are not as economical\\nas the bottleneck ResNets. So the usage of bottleneck designs is mainly due\\nto practical considerations. We further note that the degradation problem\\nof plain nets is also witnessed for the bottleneck designs.\\n6', metadata={'source': 'pdfs\\\\Deep Residual Learning for Image Recognition(ResNet).pdf', 'page': 5}),\n",
       " Document(page_content='34-layer net with this 3-layer bottleneck block, resulting in\\na 50-layer ResNet (Table 1). We use option B for increasing\\ndimensions. This model has 3.8 billion FLOPs.\\n101-layer and 152-layer ResNets: We construct 101-\\nlayer and 152-layer ResNets by using more 3-layer blocks\\n(Table 1). Remarkably, although the depth is signiﬁcantly\\nincreased, the 152-layer ResNet (11.3 billion FLOPs) still\\nhaslower complexity than VGG-16/19 nets (15.3/19.6 bil-\\nlion FLOPs).', metadata={'source': 'pdfs\\\\Deep Residual Learning for Image Recognition(ResNet).pdf', 'page': 6}),\n",
       " Document(page_content='lion FLOPs).\\nThe 50/101/152-layer ResNets are more accurate than\\nthe 34-layer ones by considerable margins (Table 3 and 4).\\nWe do not observe the degradation problem and thus en-\\njoy signiﬁcant accuracy gains from considerably increased\\ndepth. The beneﬁts of depth are witnessed for all evaluation\\nmetrics (Table 3 and 4).\\nComparisons with State-of-the-art Methods. In Table 4\\nwe compare with the previous best single-model results.\\nOur baseline 34-layer ResNets have achieved very compet-', metadata={'source': 'pdfs\\\\Deep Residual Learning for Image Recognition(ResNet).pdf', 'page': 6}),\n",
       " Document(page_content='itive accuracy. Our 152-layer ResNet has a single-model\\ntop-5 validation error of 4.49%. This single-model result\\noutperforms all previous ensemble results (Table 5). We\\ncombine six models of different depth to form an ensemble\\n(only with two 152-layer ones at the time of submitting).\\nThis leads to 3.57% top-5 error on the test set (Table 5).\\nThis entry won the 1st place in ILSVRC 2015.\\n4.2. CIFAR-10 and Analysis\\nWe conducted more studies on the CIFAR-10 dataset', metadata={'source': 'pdfs\\\\Deep Residual Learning for Image Recognition(ResNet).pdf', 'page': 6}),\n",
       " Document(page_content='[20], which consists of 50k training images and 10k test-\\ning images in 10 classes. We present experiments trained\\non the training set and evaluated on the test set. Our focus\\nis on the behaviors of extremely deep networks, but not on\\npushing the state-of-the-art results, so we intentionally use\\nsimple architectures as follows.\\nThe plain/residual architectures follow the form in Fig. 3\\n(middle/right). The network inputs are 32 ×32 images, with', metadata={'source': 'pdfs\\\\Deep Residual Learning for Image Recognition(ResNet).pdf', 'page': 6}),\n",
       " Document(page_content='the per-pixel mean subtracted. The ﬁrst layer is 3 ×3 convo-\\nlutions. Then we use a stack of 6nlayers with 3×3 convo-\\nlutions on the feature maps of sizes {32,16,8}respectively,\\nwith 2nlayers for each feature map size. The numbers of\\nﬁlters are{16,32,64}respectively. The subsampling is per-\\nformed by convolutions with a stride of 2. The network ends\\nwith a global average pooling, a 10-way fully-connected\\nlayer, and softmax. There are totally 6 n+2 stacked weighted', metadata={'source': 'pdfs\\\\Deep Residual Learning for Image Recognition(ResNet).pdf', 'page': 6}),\n",
       " Document(page_content='layers. The following table summarizes the architecture:\\noutput map size 32×32 16×16 8×8\\n# layers 1+2n 2n 2n\\n# ﬁlters 16 32 64\\nWhen shortcut connections are used, they are connected\\nto the pairs of 3×3 layers (totally 3nshortcuts). On this\\ndataset we use identity shortcuts in all cases ( i.e., option A),method error (%)\\nMaxout [10] 9.38\\nNIN [25] 8.81\\nDSN [24] 8.22\\n# layers # params\\nFitNet [35] 19 2.5M 8.39\\nHighway [42, 43] 19 2.3M 7.54 (7.72±0.16)\\nHighway [42, 43] 32 1.25M 8.80', metadata={'source': 'pdfs\\\\Deep Residual Learning for Image Recognition(ResNet).pdf', 'page': 6}),\n",
       " Document(page_content='ResNet 20 0.27M 8.75\\nResNet 32 0.46M 7.51\\nResNet 44 0.66M 7.17\\nResNet 56 0.85M 6.97\\nResNet 110 1.7M 6.43 (6.61±0.16)\\nResNet 1202 19.4M 7.93\\nTable 6. Classiﬁcation error on the CIFAR-10 test set. All meth-\\nods are with data augmentation. For ResNet-110, we run it 5 times\\nand show “best (mean ±std)” as in [43].\\nso our residual models have exactly the same depth, width,\\nand number of parameters as the plain counterparts.\\nWe use a weight decay of 0.0001 and momentum of 0.9,', metadata={'source': 'pdfs\\\\Deep Residual Learning for Image Recognition(ResNet).pdf', 'page': 6}),\n",
       " Document(page_content='and adopt the weight initialization in [13] and BN [16] but\\nwith no dropout. These models are trained with a mini-\\nbatch size of 128 on two GPUs. We start with a learning\\nrate of 0.1, divide it by 10 at 32k and 48k iterations, and\\nterminate training at 64k iterations, which is determined on\\na 45k/5k train/val split. We follow the simple data augmen-\\ntation in [24] for training: 4 pixels are padded on each side,\\nand a 32×32 crop is randomly sampled from the padded', metadata={'source': 'pdfs\\\\Deep Residual Learning for Image Recognition(ResNet).pdf', 'page': 6}),\n",
       " Document(page_content='image or its horizontal ﬂip. For testing, we only evaluate\\nthe single view of the original 32 ×32 image.\\nWe compare n={3,5,7,9}, leading to 20, 32, 44, and\\n56-layer networks. Fig. 6 (left) shows the behaviors of the\\nplain nets. The deep plain nets suffer from increased depth,\\nand exhibit higher training error when going deeper. This\\nphenomenon is similar to that on ImageNet (Fig. 4, left) and\\non MNIST (see [42]), suggesting that such an optimization\\ndifﬁculty is a fundamental problem.', metadata={'source': 'pdfs\\\\Deep Residual Learning for Image Recognition(ResNet).pdf', 'page': 6}),\n",
       " Document(page_content='Fig. 6 (middle) shows the behaviors of ResNets. Also\\nsimilar to the ImageNet cases (Fig. 4, right), our ResNets\\nmanage to overcome the optimization difﬁculty and demon-\\nstrate accuracy gains when the depth increases.\\nWe further explore n= 18 that leads to a 110-layer\\nResNet. In this case, we ﬁnd that the initial learning rate\\nof 0.1 is slightly too large to start converging5. So we use\\n0.01 to warm up the training until the training error is below', metadata={'source': 'pdfs\\\\Deep Residual Learning for Image Recognition(ResNet).pdf', 'page': 6}),\n",
       " Document(page_content='80% (about 400 iterations), and then go back to 0.1 and con-\\ntinue training. The rest of the learning schedule is as done\\npreviously. This 110-layer network converges well (Fig. 6,\\nmiddle). It has fewer parameters than other deep and thin\\n5With an initial learning rate of 0.1, it starts converging ( <90% error)\\nafter several epochs, but still reaches similar accuracy.\\n7', metadata={'source': 'pdfs\\\\Deep Residual Learning for Image Recognition(ResNet).pdf', 'page': 6}),\n",
       " Document(page_content='0 1 2 3 4 5 6051020\\niter. (1e4)error (%)\\n  \\nplain-20\\nplain-32\\nplain-44\\nplain-56\\n0 1 2 3 4 5 6051020\\niter. (1e4)error (%)\\n  \\nResNet-20\\nResNet-32\\nResNet-44\\nResNet-56\\nResNet-110 56-layer\\n20-layer\\n110-layer20-layer\\n4 5 60151020\\niter. (1e4)error (%)\\n  \\nresidual-110\\nresidual-1202Figure 6. Training on CIFAR-10 . Dashed lines denote training error, and bold lines denote testing error. Left: plain networks. The error', metadata={'source': 'pdfs\\\\Deep Residual Learning for Image Recognition(ResNet).pdf', 'page': 7}),\n",
       " Document(page_content='of plain-110 is higher than 60% and not displayed. Middle : ResNets. Right : ResNets with 110 and 1202 layers.\\n0 20 40 60 80 100123\\nlayer index (sorted by magnitude)std\\n  \\nplain-20\\nplain-56\\nResNet-20\\nResNet-56\\nResNet-1100 20 40 60 80 100123\\nlayer index (original)std\\n  \\nplain-20\\nplain-56\\nResNet-20\\nResNet-56\\nResNet-110\\nFigure 7. Standard deviations (std) of layer responses on CIFAR-\\n10. The responses are the outputs of each 3 ×3 layer, after BN and', metadata={'source': 'pdfs\\\\Deep Residual Learning for Image Recognition(ResNet).pdf', 'page': 7}),\n",
       " Document(page_content='before nonlinearity. Top: the layers are shown in their original\\norder. Bottom : the responses are ranked in descending order.\\nnetworks such as FitNet [35] and Highway [42] (Table 6),\\nyet is among the state-of-the-art results (6.43%, Table 6).\\nAnalysis of Layer Responses. Fig. 7 shows the standard\\ndeviations (std) of the layer responses. The responses are\\nthe outputs of each 3 ×3 layer, after BN and before other\\nnonlinearity (ReLU/addition). For ResNets, this analy-', metadata={'source': 'pdfs\\\\Deep Residual Learning for Image Recognition(ResNet).pdf', 'page': 7}),\n",
       " Document(page_content='sis reveals the response strength of the residual functions.\\nFig. 7 shows that ResNets have generally smaller responses\\nthan their plain counterparts. These results support our ba-\\nsic motivation (Sec.3.1) that the residual functions might\\nbe generally closer to zero than the non-residual functions.\\nWe also notice that the deeper ResNet has smaller magni-\\ntudes of responses, as evidenced by the comparisons among\\nResNet-20, 56, and 110 in Fig. 7. When there are more', metadata={'source': 'pdfs\\\\Deep Residual Learning for Image Recognition(ResNet).pdf', 'page': 7}),\n",
       " Document(page_content='layers, an individual layer of ResNets tends to modify the\\nsignal less.\\nExploring Over 1000 layers. We explore an aggressively\\ndeep model of over 1000 layers. We set n= 200 that\\nleads to a 1202-layer network, which is trained as described\\nabove. Our method shows no optimization difﬁculty , and\\nthis103-layer network is able to achieve training error\\n<0.1% (Fig. 6, right). Its test error is still fairly good\\n(7.93%, Table 6).\\nBut there are still open problems on such aggressively', metadata={'source': 'pdfs\\\\Deep Residual Learning for Image Recognition(ResNet).pdf', 'page': 7}),\n",
       " Document(page_content='deep models. The testing result of this 1202-layer network\\nis worse than that of our 110-layer network, although bothtraining data 07+12 07++12\\ntest data VOC 07 test VOC 12 test\\nVGG-16 73.2 70.4\\nResNet-101 76.4 73.8\\nTable 7. Object detection mAP (%) on the PASCAL VOC\\n2007/2012 test sets using baseline Faster R-CNN. See also Ta-\\nble 10 and 11 for better results.\\nmetric mAP@.5 mAP@[.5, .95]\\nVGG-16 41.5 21.2\\nResNet-101 48.4 27.2\\nTable 8. Object detection mAP (%) on the COCO validation set', metadata={'source': 'pdfs\\\\Deep Residual Learning for Image Recognition(ResNet).pdf', 'page': 7}),\n",
       " Document(page_content='using baseline Faster R-CNN. See also Table 9 for better results.\\nhave similar training error. We argue that this is because of\\noverﬁtting. The 1202-layer network may be unnecessarily\\nlarge (19.4M) for this small dataset. Strong regularization\\nsuch as maxout [10] or dropout [14] is applied to obtain the\\nbest results ([10, 25, 24, 35]) on this dataset. In this paper,\\nwe use no maxout/dropout and just simply impose regular-\\nization via deep and thin architectures by design, without', metadata={'source': 'pdfs\\\\Deep Residual Learning for Image Recognition(ResNet).pdf', 'page': 7}),\n",
       " Document(page_content='distracting from the focus on the difﬁculties of optimiza-\\ntion. But combining with stronger regularization may im-\\nprove results, which we will study in the future.\\n4.3. Object Detection on PASCAL and MS COCO\\nOur method has good generalization performance on\\nother recognition tasks. Table 7 and 8 show the object de-\\ntection baseline results on PASCAL VOC 2007 and 2012\\n[5] and COCO [26]. We adopt Faster R-CNN [32] as the de-\\ntection method. Here we are interested in the improvements', metadata={'source': 'pdfs\\\\Deep Residual Learning for Image Recognition(ResNet).pdf', 'page': 7}),\n",
       " Document(page_content='of replacing VGG-16 [41] with ResNet-101. The detection\\nimplementation (see appendix) of using both models is the\\nsame, so the gains can only be attributed to better networks.\\nMost remarkably, on the challenging COCO dataset we ob-\\ntain a 6.0% increase in COCO’s standard metric (mAP@[.5,\\n.95]), which is a 28% relative improvement. This gain is\\nsolely due to the learned representations.\\nBased on deep residual nets, we won the 1st places in\\nseveral tracks in ILSVRC & COCO 2015 competitions: Im-', metadata={'source': 'pdfs\\\\Deep Residual Learning for Image Recognition(ResNet).pdf', 'page': 7}),\n",
       " Document(page_content='ageNet detection, ImageNet localization, COCO detection,\\nand COCO segmentation. The details are in the appendix.\\n8', metadata={'source': 'pdfs\\\\Deep Residual Learning for Image Recognition(ResNet).pdf', 'page': 7}),\n",
       " Document(page_content='References\\n[1] Y . Bengio, P. Simard, and P. Frasconi. Learning long-term dependen-\\ncies with gradient descent is difﬁcult. IEEE Transactions on Neural\\nNetworks , 5(2):157–166, 1994.\\n[2] C. M. Bishop. Neural networks for pattern recognition . Oxford\\nuniversity press, 1995.\\n[3] W. L. Briggs, S. F. McCormick, et al. A Multigrid Tutorial . Siam,\\n2000.\\n[4] K. Chatﬁeld, V . Lempitsky, A. Vedaldi, and A. Zisserman. The devil\\nis in the details: an evaluation of recent feature encoding methods.', metadata={'source': 'pdfs\\\\Deep Residual Learning for Image Recognition(ResNet).pdf', 'page': 8}),\n",
       " Document(page_content='InBMVC , 2011.\\n[5] M. Everingham, L. Van Gool, C. K. Williams, J. Winn, and A. Zis-\\nserman. The Pascal Visual Object Classes (VOC) Challenge. IJCV ,\\npages 303–338, 2010.\\n[6] S. Gidaris and N. Komodakis. Object detection via a multi-region &\\nsemantic segmentation-aware cnn model. In ICCV , 2015.\\n[7] R. Girshick. Fast R-CNN. In ICCV , 2015.\\n[8] R. Girshick, J. Donahue, T. Darrell, and J. Malik. Rich feature hier-\\narchies for accurate object detection and semantic segmentation. In\\nCVPR , 2014.', metadata={'source': 'pdfs\\\\Deep Residual Learning for Image Recognition(ResNet).pdf', 'page': 8}),\n",
       " Document(page_content='CVPR , 2014.\\n[9] X. Glorot and Y . Bengio. Understanding the difﬁculty of training\\ndeep feedforward neural networks. In AISTATS , 2010.\\n[10] I. J. Goodfellow, D. Warde-Farley, M. Mirza, A. Courville, and\\nY . Bengio. Maxout networks. arXiv:1302.4389 , 2013.\\n[11] K. He and J. Sun. Convolutional neural networks at constrained time\\ncost. In CVPR , 2015.\\n[12] K. He, X. Zhang, S. Ren, and J. Sun. Spatial pyramid pooling in deep\\nconvolutional networks for visual recognition. In ECCV , 2014.', metadata={'source': 'pdfs\\\\Deep Residual Learning for Image Recognition(ResNet).pdf', 'page': 8}),\n",
       " Document(page_content='[13] K. He, X. Zhang, S. Ren, and J. Sun. Delving deep into rectiﬁers:\\nSurpassing human-level performance on imagenet classiﬁcation. In\\nICCV , 2015.\\n[14] G. E. Hinton, N. Srivastava, A. Krizhevsky, I. Sutskever, and\\nR. R. Salakhutdinov. Improving neural networks by preventing co-\\nadaptation of feature detectors. arXiv:1207.0580 , 2012.\\n[15] S. Hochreiter and J. Schmidhuber. Long short-term memory. Neural\\ncomputation , 9(8):1735–1780, 1997.', metadata={'source': 'pdfs\\\\Deep Residual Learning for Image Recognition(ResNet).pdf', 'page': 8}),\n",
       " Document(page_content='[16] S. Ioffe and C. Szegedy. Batch normalization: Accelerating deep\\nnetwork training by reducing internal covariate shift. In ICML , 2015.\\n[17] H. Jegou, M. Douze, and C. Schmid. Product quantization for nearest\\nneighbor search. TPAMI , 33, 2011.\\n[18] H. Jegou, F. Perronnin, M. Douze, J. Sanchez, P. Perez, and\\nC. Schmid. Aggregating local image descriptors into compact codes.\\nTPAMI , 2012.\\n[19] Y . Jia, E. Shelhamer, J. Donahue, S. Karayev, J. Long, R. Girshick,', metadata={'source': 'pdfs\\\\Deep Residual Learning for Image Recognition(ResNet).pdf', 'page': 8}),\n",
       " Document(page_content='S. Guadarrama, and T. Darrell. Caffe: Convolutional architecture for\\nfast feature embedding. arXiv:1408.5093 , 2014.\\n[20] A. Krizhevsky. Learning multiple layers of features from tiny im-\\nages. Tech Report , 2009.\\n[21] A. Krizhevsky, I. Sutskever, and G. Hinton. Imagenet classiﬁcation\\nwith deep convolutional neural networks. In NIPS , 2012.\\n[22] Y . LeCun, B. Boser, J. S. Denker, D. Henderson, R. E. Howard,\\nW. Hubbard, and L. D. Jackel. Backpropagation applied to hand-', metadata={'source': 'pdfs\\\\Deep Residual Learning for Image Recognition(ResNet).pdf', 'page': 8}),\n",
       " Document(page_content='written zip code recognition. Neural computation , 1989.\\n[23] Y . LeCun, L. Bottou, G. B. Orr, and K.-R. M ¨uller. Efﬁcient backprop.\\nInNeural Networks: Tricks of the Trade , pages 9–50. Springer, 1998.\\n[24] C.-Y . Lee, S. Xie, P. Gallagher, Z. Zhang, and Z. Tu. Deeply-\\nsupervised nets. arXiv:1409.5185 , 2014.\\n[25] M. Lin, Q. Chen, and S. Yan. Network in network. arXiv:1312.4400 ,\\n2013.\\n[26] T.-Y . Lin, M. Maire, S. Belongie, J. Hays, P. Perona, D. Ramanan,', metadata={'source': 'pdfs\\\\Deep Residual Learning for Image Recognition(ResNet).pdf', 'page': 8}),\n",
       " Document(page_content='P. Doll ´ar, and C. L. Zitnick. Microsoft COCO: Common objects in\\ncontext. In ECCV . 2014.\\n[27] J. Long, E. Shelhamer, and T. Darrell. Fully convolutional networks\\nfor semantic segmentation. In CVPR , 2015.[28] G. Mont ´ufar, R. Pascanu, K. Cho, and Y . Bengio. On the number of\\nlinear regions of deep neural networks. In NIPS , 2014.\\n[29] V . Nair and G. E. Hinton. Rectiﬁed linear units improve restricted\\nboltzmann machines. In ICML , 2010.', metadata={'source': 'pdfs\\\\Deep Residual Learning for Image Recognition(ResNet).pdf', 'page': 8}),\n",
       " Document(page_content='[30] F. Perronnin and C. Dance. Fisher kernels on visual vocabularies for\\nimage categorization. In CVPR , 2007.\\n[31] T. Raiko, H. Valpola, and Y . LeCun. Deep learning made easier by\\nlinear transformations in perceptrons. In AISTATS , 2012.\\n[32] S. Ren, K. He, R. Girshick, and J. Sun. Faster R-CNN: Towards\\nreal-time object detection with region proposal networks. In NIPS ,\\n2015.\\n[33] S. Ren, K. He, R. Girshick, X. Zhang, and J. Sun. Object detection', metadata={'source': 'pdfs\\\\Deep Residual Learning for Image Recognition(ResNet).pdf', 'page': 8}),\n",
       " Document(page_content='networks on convolutional feature maps. arXiv:1504.06066 , 2015.\\n[34] B. D. Ripley. Pattern recognition and neural networks . Cambridge\\nuniversity press, 1996.\\n[35] A. Romero, N. Ballas, S. E. Kahou, A. Chassang, C. Gatta, and\\nY . Bengio. Fitnets: Hints for thin deep nets. In ICLR , 2015.\\n[36] O. Russakovsky, J. Deng, H. Su, J. Krause, S. Satheesh, S. Ma,\\nZ. Huang, A. Karpathy, A. Khosla, M. Bernstein, et al. Imagenet\\nlarge scale visual recognition challenge. arXiv:1409.0575 , 2014.', metadata={'source': 'pdfs\\\\Deep Residual Learning for Image Recognition(ResNet).pdf', 'page': 8}),\n",
       " Document(page_content='[37] A. M. Saxe, J. L. McClelland, and S. Ganguli. Exact solutions to\\nthe nonlinear dynamics of learning in deep linear neural networks.\\narXiv:1312.6120 , 2013.\\n[38] N. N. Schraudolph. Accelerated gradient descent by factor-centering\\ndecomposition. Technical report, 1998.\\n[39] N. N. Schraudolph. Centering neural network gradient factors. In\\nNeural Networks: Tricks of the Trade , pages 207–226. Springer,\\n1998.\\n[40] P. Sermanet, D. Eigen, X. Zhang, M. Mathieu, R. Fergus, and Y . Le-', metadata={'source': 'pdfs\\\\Deep Residual Learning for Image Recognition(ResNet).pdf', 'page': 8}),\n",
       " Document(page_content='Cun. Overfeat: Integrated recognition, localization and detection\\nusing convolutional networks. In ICLR , 2014.\\n[41] K. Simonyan and A. Zisserman. Very deep convolutional networks\\nfor large-scale image recognition. In ICLR , 2015.\\n[42] R. K. Srivastava, K. Greff, and J. Schmidhuber. Highway networks.\\narXiv:1505.00387 , 2015.\\n[43] R. K. Srivastava, K. Greff, and J. Schmidhuber. Training very deep\\nnetworks. 1507.06228 , 2015.', metadata={'source': 'pdfs\\\\Deep Residual Learning for Image Recognition(ResNet).pdf', 'page': 8}),\n",
       " Document(page_content='[44] C. Szegedy, W. Liu, Y . Jia, P. Sermanet, S. Reed, D. Anguelov, D. Er-\\nhan, V . Vanhoucke, and A. Rabinovich. Going deeper with convolu-\\ntions. In CVPR , 2015.\\n[45] R. Szeliski. Fast surface interpolation using hierarchical basis func-\\ntions. TPAMI , 1990.\\n[46] R. Szeliski. Locally adapted hierarchical basis preconditioning. In\\nSIGGRAPH , 2006.\\n[47] T. Vatanen, T. Raiko, H. Valpola, and Y . LeCun. Pushing stochas-\\ntic gradient towards second-order methods–backpropagation learn-', metadata={'source': 'pdfs\\\\Deep Residual Learning for Image Recognition(ResNet).pdf', 'page': 8}),\n",
       " Document(page_content='ing with transformations in nonlinearities. In Neural Information\\nProcessing , 2013.\\n[48] A. Vedaldi and B. Fulkerson. VLFeat: An open and portable library\\nof computer vision algorithms, 2008.\\n[49] W. Venables and B. Ripley. Modern applied statistics with s-plus.\\n1999.\\n[50] M. D. Zeiler and R. Fergus. Visualizing and understanding convolu-\\ntional neural networks. In ECCV , 2014.\\n9', metadata={'source': 'pdfs\\\\Deep Residual Learning for Image Recognition(ResNet).pdf', 'page': 8}),\n",
       " Document(page_content='A. Object Detection Baselines\\nIn this section we introduce our detection method based\\non the baseline Faster R-CNN [32] system. The models are\\ninitialized by the ImageNet classiﬁcation models, and then\\nﬁne-tuned on the object detection data. We have experi-\\nmented with ResNet-50/101 at the time of the ILSVRC &\\nCOCO 2015 detection competitions.\\nUnlike VGG-16 used in [32], our ResNet has no hidden\\nfc layers. We adopt the idea of “Networks on Conv fea-', metadata={'source': 'pdfs\\\\Deep Residual Learning for Image Recognition(ResNet).pdf', 'page': 9}),\n",
       " Document(page_content='ture maps” (NoC) [33] to address this issue. We compute\\nthe full-image shared conv feature maps using those lay-\\ners whose strides on the image are no greater than 16 pixels\\n(i.e., conv1, conv2 x, conv3 x, and conv4 x, totally 91 conv\\nlayers in ResNet-101; Table 1). We consider these layers as\\nanalogous to the 13 conv layers in VGG-16, and by doing\\nso, both ResNet and VGG-16 have conv feature maps of the\\nsame total stride (16 pixels). These layers are shared by a', metadata={'source': 'pdfs\\\\Deep Residual Learning for Image Recognition(ResNet).pdf', 'page': 9}),\n",
       " Document(page_content='region proposal network (RPN, generating 300 proposals)\\n[32] and a Fast R-CNN detection network [7]. RoI pool-\\ning [7] is performed before conv5 1. On this RoI-pooled\\nfeature, all layers of conv5 x and up are adopted for each\\nregion, playing the roles of VGG-16’s fc layers. The ﬁnal\\nclassiﬁcation layer is replaced by two sibling layers (classi-\\nﬁcation and box regression [7]).\\nFor the usage of BN layers, after pre-training, we com-\\npute the BN statistics (means and variances) for each layer', metadata={'source': 'pdfs\\\\Deep Residual Learning for Image Recognition(ResNet).pdf', 'page': 9}),\n",
       " Document(page_content='on the ImageNet training set. Then the BN layers are ﬁxed\\nduring ﬁne-tuning for object detection. As such, the BN\\nlayers become linear activations with constant offsets and\\nscales, and BN statistics are not updated by ﬁne-tuning. We\\nﬁx the BN layers mainly for reducing memory consumption\\nin Faster R-CNN training.\\nPASCAL VOC\\nFollowing [7, 32], for the PASCAL VOC 2007 testset,\\nwe use the 5k trainval images in VOC 2007 and 16k train-\\nvalimages in VOC 2012 for training (“07+12”). For the', metadata={'source': 'pdfs\\\\Deep Residual Learning for Image Recognition(ResNet).pdf', 'page': 9}),\n",
       " Document(page_content='PASCAL VOC 2012 testset, we use the 10k trainval +test\\nimages in VOC 2007 and 16k trainval images in VOC 2012\\nfor training (“07++12”). The hyper-parameters for train-\\ning Faster R-CNN are the same as in [32]. Table 7 shows\\nthe results. ResNet-101 improves the mAP by >3% over\\nVGG-16. This gain is solely because of the improved fea-\\ntures learned by ResNet.\\nMS COCO\\nThe MS COCO dataset [26] involves 80 object cate-\\ngories. We evaluate the PASCAL VOC metric (mAP @', metadata={'source': 'pdfs\\\\Deep Residual Learning for Image Recognition(ResNet).pdf', 'page': 9}),\n",
       " Document(page_content='IoU = 0.5) and the standard COCO metric (mAP @ IoU =\\n.5:.05:.95). We use the 80k images on the train set for train-\\ning and the 40k images on the val set for evaluation. Our\\ndetection system for COCO is similar to that for PASCAL\\nVOC. We train the COCO models with an 8-GPU imple-\\nmentation, and thus the RPN step has a mini-batch size of8 images ( i.e., 1 per GPU) and the Fast R-CNN step has a\\nmini-batch size of 16 images. The RPN step and Fast R-', metadata={'source': 'pdfs\\\\Deep Residual Learning for Image Recognition(ResNet).pdf', 'page': 9}),\n",
       " Document(page_content='CNN step are both trained for 240k iterations with a learn-\\ning rate of 0.001 and then for 80k iterations with 0.0001.\\nTable 8 shows the results on the MS COCO validation\\nset. ResNet-101 has a 6% increase of mAP@[.5, .95] over\\nVGG-16, which is a 28% relative improvement, solely con-\\ntributed by the features learned by the better network. Re-\\nmarkably, the mAP@[.5, .95]’s absolute increase (6.0%) is\\nnearly as big as mAP@.5’s (6.9%). This suggests that a', metadata={'source': 'pdfs\\\\Deep Residual Learning for Image Recognition(ResNet).pdf', 'page': 9}),\n",
       " Document(page_content='deeper network can improve both recognition and localiza-\\ntion.\\nB. Object Detection Improvements\\nFor completeness, we report the improvements made for\\nthe competitions. These improvements are based on deep\\nfeatures and thus should beneﬁt from residual learning.\\nMS COCO\\nBox reﬁnement. Our box reﬁnement partially follows the it-\\nerative localization in [6]. In Faster R-CNN, the ﬁnal output\\nis a regressed box that is different from its proposal box. So', metadata={'source': 'pdfs\\\\Deep Residual Learning for Image Recognition(ResNet).pdf', 'page': 9}),\n",
       " Document(page_content='for inference, we pool a new feature from the regressed box\\nand obtain a new classiﬁcation score and a new regressed\\nbox. We combine these 300 new predictions with the orig-\\ninal 300 predictions. Non-maximum suppression (NMS) is\\napplied on the union set of predicted boxes using an IoU\\nthreshold of 0.3 [8], followed by box voting [6]. Box re-\\nﬁnement improves mAP by about 2 points (Table 9).\\nGlobal context. We combine global context in the Fast', metadata={'source': 'pdfs\\\\Deep Residual Learning for Image Recognition(ResNet).pdf', 'page': 9}),\n",
       " Document(page_content='R-CNN step. Given the full-image conv feature map, we\\npool a feature by global Spatial Pyramid Pooling [12] (with\\na “single-level” pyramid) which can be implemented as\\n“RoI” pooling using the entire image’s bounding box as the\\nRoI. This pooled feature is fed into the post-RoI layers to\\nobtain a global context feature. This global feature is con-\\ncatenated with the original per-region feature, followed by\\nthe sibling classiﬁcation and box regression layers. This', metadata={'source': 'pdfs\\\\Deep Residual Learning for Image Recognition(ResNet).pdf', 'page': 9}),\n",
       " Document(page_content='new structure is trained end-to-end. Global context im-\\nproves mAP@.5 by about 1 point (Table 9).\\nMulti-scale testing. In the above, all results are obtained by\\nsingle-scale training/testing as in [32], where the image’s\\nshorter side is s= 600 pixels. Multi-scale training/testing\\nhas been developed in [12, 7] by selecting a scale from a\\nfeature pyramid, and in [33] by using maxout layers. In\\nour current implementation, we have performed multi-scale', metadata={'source': 'pdfs\\\\Deep Residual Learning for Image Recognition(ResNet).pdf', 'page': 9}),\n",
       " Document(page_content='testing following [33]; we have not performed multi-scale\\ntraining because of limited time. In addition, we have per-\\nformed multi-scale testing only for the Fast R-CNN step\\n(but not yet for the RPN step). With a trained model, we\\ncompute conv feature maps on an image pyramid, where the\\nimage’s shorter sides are s∈{200,400,600,800,1000}.\\n10', metadata={'source': 'pdfs\\\\Deep Residual Learning for Image Recognition(ResNet).pdf', 'page': 9}),\n",
       " Document(page_content='training data COCO train COCO trainval\\ntest data COCO val COCO test-dev\\nmAP @.5 @[.5, .95] @.5 @[.5, .95]\\nbaseline Faster R-CNN (VGG-16) 41.5 21.2\\nbaseline Faster R-CNN (ResNet-101) 48.4 27.2\\n+box reﬁnement 49.9 29.9\\n+context 51.1 30.0 53.3 32.2\\n+multi-scale testing 53.8 32.5 55.7 34.9\\nensemble 59.0 37.4\\nTable 9. Object detection improvements on MS COCO using Faster R-CNN and ResNet-101.', metadata={'source': 'pdfs\\\\Deep Residual Learning for Image Recognition(ResNet).pdf', 'page': 10}),\n",
       " Document(page_content='system net data mAP areo bike bird boat bottle bus car cat chair cow table dog horse mbike person plant sheep sofa train tv\\nbaseline VGG-16 07+12 73.2 76.5 79.0 70.9 65.5 52.1 83.1 84.7 86.4 52.0 81.9 65.7 84.8 84.6 77.5 76.7 38.8 73.6 73.9 83.0 72.6\\nbaseline ResNet-101 07+12 76.4 79.8 80.7 76.2 68.3 55.9 85.1 85.3 89.8 56.7 87.8 69.4 88.3 88.9 80.9 78.4 41.7 78.6 79.8 85.3 72.0', metadata={'source': 'pdfs\\\\Deep Residual Learning for Image Recognition(ResNet).pdf', 'page': 10}),\n",
       " Document(page_content='baseline+++ ResNet-101 COCO+07+12 85.6 90.0 89.6 87.8 80.8 76.1 89.9 89.9 89.6 75.5 90.0 80.7 89.6 90.3 89.1 88.7 65.4 88.1 85.6 89.0 86.8\\nTable 10. Detection results on the PASCAL VOC 2007 test set. The baseline is the Faster R-CNN system. The system “baseline+++”\\ninclude box reﬁnement, context, and multi-scale testing in Table 9.\\nsystem net data mAP areo bike bird boat bottle bus car cat chair cow table dog horse mbike person plant sheep sofa train tv', metadata={'source': 'pdfs\\\\Deep Residual Learning for Image Recognition(ResNet).pdf', 'page': 10}),\n",
       " Document(page_content='baseline VGG-16 07++12 70.4 84.9 79.8 74.3 53.9 49.8 77.5 75.9 88.5 45.6 77.1 55.3 86.9 81.7 80.9 79.6 40.1 72.6 60.9 81.2 61.5\\nbaseline ResNet-101 07++12 73.8 86.5 81.6 77.2 58.0 51.0 78.6 76.6 93.2 48.6 80.4 59.0 92.1 85.3 84.8 80.7 48.1 77.3 66.5 84.7 65.6\\nbaseline+++ ResNet-101 COCO+07++12 83.8 92.1 88.4 84.8 75.9 71.4 86.3 87.8 94.2 66.8 89.4 69.2 93.9 91.9 90.9 89.6 67.9 88.2 76.8 90.3 80.0', metadata={'source': 'pdfs\\\\Deep Residual Learning for Image Recognition(ResNet).pdf', 'page': 10}),\n",
       " Document(page_content='Table 11. Detection results on the PASCAL VOC 2012 test set ( http://host.robots.ox.ac.uk:8080/leaderboard/\\ndisplaylb.php?challengeid=11&compid=4 ). The baseline is the Faster R-CNN system. The system “baseline+++” include\\nbox reﬁnement, context, and multi-scale testing in Table 9.\\nWe select two adjacent scales from the pyramid following\\n[33]. RoI pooling and subsequent layers are performed on\\nthe feature maps of these two scales [33], which are merged', metadata={'source': 'pdfs\\\\Deep Residual Learning for Image Recognition(ResNet).pdf', 'page': 10}),\n",
       " Document(page_content='by maxout as in [33]. Multi-scale testing improves the mAP\\nby over 2 points (Table 9).\\nUsing validation data. Next we use the 80k+40k trainval set\\nfor training and the 20k test-dev set for evaluation. The test-\\ndev set has no publicly available ground truth and the result\\nis reported by the evaluation server. Under this setting, the\\nresults are an mAP@.5 of 55.7% and an mAP@[.5, .95] of\\n34.9% (Table 9). This is our single-model result.\\nEnsemble. In Faster R-CNN, the system is designed to learn', metadata={'source': 'pdfs\\\\Deep Residual Learning for Image Recognition(ResNet).pdf', 'page': 10}),\n",
       " Document(page_content='region proposals and also object classiﬁers, so an ensemble\\ncan be used to boost both tasks. We use an ensemble for\\nproposing regions, and the union set of proposals are pro-\\ncessed by an ensemble of per-region classiﬁers. Table 9\\nshows our result based on an ensemble of 3 networks. The\\nmAP is 59.0% and 37.4% on the test-dev set. This result\\nwon the 1st place in the detection task in COCO 2015.\\nPASCAL VOC\\nWe revisit the PASCAL VOC dataset based on the above', metadata={'source': 'pdfs\\\\Deep Residual Learning for Image Recognition(ResNet).pdf', 'page': 10}),\n",
       " Document(page_content='model. With the single model on the COCO dataset (55.7%\\nmAP@.5 in Table 9), we ﬁne-tune this model on the PAS-\\nCAL VOC sets. The improvements of box reﬁnement, con-\\ntext, and multi-scale testing are also adopted. By doing soval2 test\\nGoogLeNet [44] (ILSVRC’14) - 43.9\\nour single model (ILSVRC’15) 60.5 58.8\\nour ensemble (ILSVRC’15) 63.6 62.1\\nTable 12. Our results (mAP, %) on the ImageNet detection dataset.\\nOur detection system is Faster R-CNN [32] with the improvements', metadata={'source': 'pdfs\\\\Deep Residual Learning for Image Recognition(ResNet).pdf', 'page': 10}),\n",
       " Document(page_content='in Table 9, using ResNet-101.\\nwe achieve 85.6% mAP on PASCAL VOC 2007 (Table 10)\\nand 83.8% on PASCAL VOC 2012 (Table 11)6. The result\\non PASCAL VOC 2012 is 10 points higher than the previ-\\nous state-of-the-art result [6].\\nImageNet Detection\\nThe ImageNet Detection (DET) task involves 200 object\\ncategories. The accuracy is evaluated by mAP@.5. Our\\nobject detection algorithm for ImageNet DET is the same\\nas that for MS COCO in Table 9. The networks are pre-', metadata={'source': 'pdfs\\\\Deep Residual Learning for Image Recognition(ResNet).pdf', 'page': 10}),\n",
       " Document(page_content='trained on the 1000-class ImageNet classiﬁcation set, and\\nare ﬁne-tuned on the DET data. We split the validation set\\ninto two parts (val1/val2) following [8]. We ﬁne-tune the\\ndetection models using the DET training set and the val1\\nset. The val2 set is used for validation. We do not use other\\nILSVRC 2015 data. Our single model with ResNet-101 has\\n6http://host.robots.ox.ac.uk:8080/anonymous/3OJ4OJ.html ,\\nsubmitted on 2015-11-26.\\n11', metadata={'source': 'pdfs\\\\Deep Residual Learning for Image Recognition(ResNet).pdf', 'page': 10}),\n",
       " Document(page_content='LOC\\nmethodLOC\\nnetworktestingLOC error\\non GT CLSclassiﬁcation\\nnetworktop-5 LOC error\\non predicted CLS\\nVGG’s [41] VGG-16 1-crop 33.1 [41]\\nRPN ResNet-101 1-crop 13.3\\nRPN ResNet-101 dense 11.7\\nRPN ResNet-101 dense ResNet-101 14.4\\nRPN+RCNN ResNet-101 dense ResNet-101 10.6\\nRPN+RCNN ensemble dense ensemble 8.9\\nTable 13. Localization error (%) on the ImageNet validation. In\\nthe column of “LOC error on GT class” ([41]), the ground truth\\nclass is used. In the “testing” column, “1-crop” denotes testing', metadata={'source': 'pdfs\\\\Deep Residual Learning for Image Recognition(ResNet).pdf', 'page': 11}),\n",
       " Document(page_content='on a center crop of 224 ×224 pixels, “dense” denotes dense (fully\\nconvolutional) and multi-scale testing.\\n58.8% mAP and our ensemble of 3 models has 62.1% mAP\\non the DET test set (Table 12). This result won the 1st place\\nin the ImageNet detection task in ILSVRC 2015 , surpassing\\nthe second place by 8.5 points (absolute).\\nC. ImageNet Localization\\nThe ImageNet Localization (LOC) task [36] requires to\\nclassify and localize the objects. Following [40, 41], we', metadata={'source': 'pdfs\\\\Deep Residual Learning for Image Recognition(ResNet).pdf', 'page': 11}),\n",
       " Document(page_content='assume that the image-level classiﬁers are ﬁrst adopted for\\npredicting the class labels of an image, and the localiza-\\ntion algorithm only accounts for predicting bounding boxes\\nbased on the predicted classes. We adopt the “per-class re-\\ngression” (PCR) strategy [40, 41], learning a bounding box\\nregressor for each class. We pre-train the networks for Im-\\nageNet classiﬁcation and then ﬁne-tune them for localiza-\\ntion. We train networks on the provided 1000-class Ima-\\ngeNet training set.', metadata={'source': 'pdfs\\\\Deep Residual Learning for Image Recognition(ResNet).pdf', 'page': 11}),\n",
       " Document(page_content='geNet training set.\\nOur localization algorithm is based on the RPN frame-\\nwork of [32] with a few modiﬁcations. Unlike the way in\\n[32] that is category-agnostic, our RPN for localization is\\ndesigned in a per-class form. This RPN ends with two sib-\\nling 1×1 convolutional layers for binary classiﬁcation ( cls)\\nand box regression ( reg), as in [32]. The clsandreglayers\\nare both in a per-class from, in contrast to [32]. Speciﬁ-\\ncally, the clslayer has a 1000-d output, and each dimension', metadata={'source': 'pdfs\\\\Deep Residual Learning for Image Recognition(ResNet).pdf', 'page': 11}),\n",
       " Document(page_content='isbinary logistic regression for predicting being or not be-\\ning an object class; the reglayer has a 1000×4-d output\\nconsisting of box regressors for 1000 classes. As in [32],\\nour bounding box regression is with reference to multiple\\ntranslation-invariant “anchor” boxes at each position.\\nAs in our ImageNet classiﬁcation training (Sec. 3.4), we\\nrandomly sample 224 ×224 crops for data augmentation.\\nWe use a mini-batch size of 256 images for ﬁne-tuning. To', metadata={'source': 'pdfs\\\\Deep Residual Learning for Image Recognition(ResNet).pdf', 'page': 11}),\n",
       " Document(page_content='avoid negative samples being dominate, 8 anchors are ran-\\ndomly sampled for each image, where the sampled positive\\nand negative anchors have a ratio of 1:1 [32]. For testing,\\nthe network is applied on the image fully-convolutionally.\\nTable 13 compares the localization results. Following\\n[41], we ﬁrst perform “oracle” testing using the ground truth\\nclass as the classiﬁcation prediction. VGG’s paper [41] re-methodtop-5 localization err\\nval test\\nOverFeat [40] (ILSVRC’13) 30.0 29.9', metadata={'source': 'pdfs\\\\Deep Residual Learning for Image Recognition(ResNet).pdf', 'page': 11}),\n",
       " Document(page_content='GoogLeNet [44] (ILSVRC’14) - 26.7\\nVGG [41] (ILSVRC’14) 26.9 25.3\\nours (ILSVRC’15) 8.9 9.0\\nTable 14. Comparisons of localization error (%) on the ImageNet\\ndataset with state-of-the-art methods.\\nports a center-crop error of 33.1% (Table 13) using ground\\ntruth classes. Under the same setting, our RPN method us-\\ning ResNet-101 net signiﬁcantly reduces the center-crop er-\\nror to 13.3%. This comparison demonstrates the excellent\\nperformance of our framework. With dense (fully convolu-', metadata={'source': 'pdfs\\\\Deep Residual Learning for Image Recognition(ResNet).pdf', 'page': 11}),\n",
       " Document(page_content='tional) and multi-scale testing, our ResNet-101 has an error\\nof 11.7% using ground truth classes. Using ResNet-101 for\\npredicting classes (4.6% top-5 classiﬁcation error, Table 4),\\nthe top-5 localization error is 14.4%.\\nThe above results are only based on the proposal network\\n(RPN) in Faster R-CNN [32]. One may use the detection\\nnetwork (Fast R-CNN [7]) in Faster R-CNN to improve the\\nresults. But we notice that on this dataset, one image usually', metadata={'source': 'pdfs\\\\Deep Residual Learning for Image Recognition(ResNet).pdf', 'page': 11}),\n",
       " Document(page_content='contains a single dominate object, and the proposal regions\\nhighly overlap with each other and thus have very similar\\nRoI-pooled features. As a result, the image-centric training\\nof Fast R-CNN [7] generates samples of small variations,\\nwhich may not be desired for stochastic training. Motivated\\nby this, in our current experiment we use the original R-\\nCNN [8] that is RoI-centric, in place of Fast R-CNN.\\nOur R-CNN implementation is as follows. We apply the', metadata={'source': 'pdfs\\\\Deep Residual Learning for Image Recognition(ResNet).pdf', 'page': 11}),\n",
       " Document(page_content='per-class RPN trained as above on the training images to\\npredict bounding boxes for the ground truth class. These\\npredicted boxes play a role of class-dependent proposals.\\nFor each training image, the highest scored 200 proposals\\nare extracted as training samples to train an R-CNN classi-\\nﬁer. The image region is cropped from a proposal, warped\\nto 224×224 pixels, and fed into the classiﬁcation network\\nas in R-CNN [8]. The outputs of this network consist of two', metadata={'source': 'pdfs\\\\Deep Residual Learning for Image Recognition(ResNet).pdf', 'page': 11}),\n",
       " Document(page_content='sibling fc layers for clsandreg, also in a per-class form.\\nThis R-CNN network is ﬁne-tuned on the training set us-\\ning a mini-batch size of 256 in the RoI-centric fashion. For\\ntesting, the RPN generates the highest scored 200 proposals\\nfor each predicted class, and the R-CNN network is used to\\nupdate these proposals’ scores and box positions.\\nThis method reduces the top-5 localization error to\\n10.6% (Table 13). This is our single-model result on the', metadata={'source': 'pdfs\\\\Deep Residual Learning for Image Recognition(ResNet).pdf', 'page': 11}),\n",
       " Document(page_content='validation set. Using an ensemble of networks for both clas-\\nsiﬁcation and localization, we achieve a top-5 localization\\nerror of 9.0% on the test set. This number signiﬁcantly out-\\nperforms the ILSVRC 14 results (Table 14), showing a 64%\\nrelative reduction of error. This result won the 1st place in\\nthe ImageNet localization task in ILSVRC 2015.\\n12', metadata={'source': 'pdfs\\\\Deep Residual Learning for Image Recognition(ResNet).pdf', 'page': 11})]"
      ]
     },
     "execution_count": 8,
     "metadata": {},
     "output_type": "execute_result"
    }
   ],
   "source": [
    "text_chunks"
   ]
  },
  {
   "cell_type": "code",
   "execution_count": 14,
   "metadata": {},
   "outputs": [
    {
     "data": {
      "text/plain": [
       "132"
      ]
     },
     "execution_count": 14,
     "metadata": {},
     "output_type": "execute_result"
    }
   ],
   "source": [
    "len(text_chunks)"
   ]
  },
  {
   "cell_type": "code",
   "execution_count": 10,
   "metadata": {},
   "outputs": [
    {
     "name": "stdout",
     "output_type": "stream",
     "text": [
      "Deep Residual Learning for Image Recognition\n",
      "Kaiming He Xiangyu Zhang Shaoqing Ren Jian Sun\n",
      "Microsoft Research\n",
      "{kahe, v-xiangz, v-shren, jiansun }@microsoft.com\n",
      "Abstract\n",
      "Deeper neural networks are more difﬁcult to train. We\n",
      "present a residual learning framework to ease the training\n",
      "of networks that are substantially deeper than those used\n",
      "previously. We explicitly reformulate the layers as learn-\n",
      "ing residual functions with reference to the layer inputs, in-\n"
     ]
    }
   ],
   "source": [
    "print(text_chunks[0].page_content)"
   ]
  },
  {
   "cell_type": "code",
   "execution_count": 11,
   "metadata": {},
   "outputs": [
    {
     "name": "stdout",
     "output_type": "stream",
     "text": [
      "stead of learning unreferenced functions. We provide com-\n",
      "prehensive empirical evidence showing that these residual\n",
      "networks are easier to optimize, and can gain accuracy from\n",
      "considerably increased depth. On the ImageNet dataset we\n",
      "evaluate residual nets with a depth of up to 152 layers—8 ×\n",
      "deeper than VGG nets [41] but still having lower complex-\n",
      "ity. An ensemble of these residual nets achieves 3.57% error\n",
      "on the ImageNet testset. This result won the 1st place on the\n"
     ]
    }
   ],
   "source": [
    "print(text_chunks[1].page_content)"
   ]
  },
  {
   "cell_type": "code",
   "execution_count": 12,
   "metadata": {},
   "outputs": [
    {
     "name": "stdout",
     "output_type": "stream",
     "text": [
      "ILSVRC 2015 classiﬁcation task. We also present analysis\n",
      "on CIFAR-10 with 100 and 1000 layers.\n",
      "The depth of representations is of central importance\n",
      "for many visual recognition tasks. Solely due to our ex-\n",
      "tremely deep representations, we obtain a 28% relative im-\n",
      "provement on the COCO object detection dataset. Deep\n",
      "residual nets are foundations of our submissions to ILSVRC\n",
      "& COCO 2015 competitions1, where we also won the 1st\n",
      "places on the tasks of ImageNet detection, ImageNet local-\n"
     ]
    }
   ],
   "source": [
    "print(text_chunks[2].page_content)"
   ]
  },
  {
   "cell_type": "code",
   "execution_count": 13,
   "metadata": {},
   "outputs": [
    {
     "name": "stdout",
     "output_type": "stream",
     "text": [
      "ization, COCO detection, and COCO segmentation.\n",
      "1. Introduction\n",
      "Deep convolutional neural networks [22, 21] have led\n",
      "to a series of breakthroughs for image classiﬁcation [21,\n",
      "50, 40]. Deep networks naturally integrate low/mid/high-\n",
      "level features [50] and classiﬁers in an end-to-end multi-\n",
      "layer fashion, and the “levels” of features can be enriched\n",
      "by the number of stacked layers (depth). Recent evidence\n",
      "[41, 44] reveals that network depth is of crucial importance,\n"
     ]
    }
   ],
   "source": [
    "print(text_chunks[3].page_content)"
   ]
  },
  {
   "cell_type": "code",
   "execution_count": null,
   "metadata": {},
   "outputs": [],
   "source": [
    "from dotenv import load_dotenv\n",
    "load_dotenv()"
   ]
  },
  {
   "cell_type": "code",
   "execution_count": 15,
   "metadata": {},
   "outputs": [],
   "source": [
    "import os\n",
    "#os.environ[\"OPENAI_API_KEY\"]=\"-----------------\""
   ]
  },
  {
   "cell_type": "code",
   "execution_count": 25,
   "metadata": {},
   "outputs": [],
   "source": [
    "from langchain.embeddings.openai import OpenAIEmbeddings\n",
    "import tiktoken"
   ]
  },
  {
   "cell_type": "code",
   "execution_count": 40,
   "metadata": {},
   "outputs": [],
   "source": [
    "embedding=OpenAIEmbeddings(api_key=os.environ['OPENAI_API_KEY'])"
   ]
  },
  {
   "cell_type": "code",
   "execution_count": 41,
   "metadata": {},
   "outputs": [
    {
     "data": {
      "text/plain": [
       "1536"
      ]
     },
     "execution_count": 41,
     "metadata": {},
     "output_type": "execute_result"
    }
   ],
   "source": [
    "len(embedding.embed_query(\"How are you\"))"
   ]
  },
  {
   "cell_type": "code",
   "execution_count": 42,
   "metadata": {},
   "outputs": [
    {
     "data": {
      "text/plain": [
       "1536"
      ]
     },
     "execution_count": 42,
     "metadata": {},
     "output_type": "execute_result"
    }
   ],
   "source": [
    "len(embedding.embed_query(\"hi i am fine\"))"
   ]
  },
  {
   "cell_type": "code",
   "execution_count": 43,
   "metadata": {},
   "outputs": [],
   "source": [
    "PINECONE_API_KEY = os.environ.get('PINECONE_API_KEY', '----------------------------')\n",
    "PINECONE_API_ENV = os.environ.get('PINECONE_API_ENV', 'gcp-starter')"
   ]
  },
  {
   "cell_type": "code",
   "execution_count": 44,
   "metadata": {},
   "outputs": [],
   "source": [
    "import pinecone\n",
    "pinecone.init( api_key=PINECONE_API_KEY,  # find at app.pinecone.io\n",
    "     environment=PINECONE_API_ENV  # next to api key in console\n",
    ")"
   ]
  },
  {
   "cell_type": "code",
   "execution_count": 48,
   "metadata": {},
   "outputs": [],
   "source": [
    "index_name = \"test\" # put in the name of your pinecone index here"
   ]
  },
  {
   "cell_type": "code",
   "execution_count": 49,
   "metadata": {},
   "outputs": [],
   "source": [
    "index = pinecone.Index('test')"
   ]
  },
  {
   "cell_type": "markdown",
   "metadata": {},
   "source": [
    "## Create Embeddings for each of the Text Chunk"
   ]
  },
  {
   "cell_type": "code",
   "execution_count": 50,
   "metadata": {},
   "outputs": [],
   "source": [
    "docsearch = Pinecone.from_texts([t.page_content for t in text_chunks], embedding, index_name=index_name)"
   ]
  },
  {
   "cell_type": "code",
   "execution_count": 51,
   "metadata": {},
   "outputs": [
    {
     "data": {
      "text/plain": [
       "<langchain_community.vectorstores.pinecone.Pinecone at 0x19d6c3d9a10>"
      ]
     },
     "execution_count": 51,
     "metadata": {},
     "output_type": "execute_result"
    }
   ],
   "source": [
    "docsearch"
   ]
  },
  {
   "cell_type": "code",
   "execution_count": 52,
   "metadata": {},
   "outputs": [
    {
     "data": {
      "text/plain": [
       "VectorStoreRetriever(tags=['Pinecone', 'OpenAIEmbeddings'], vectorstore=<langchain_community.vectorstores.pinecone.Pinecone object at 0x0000019D6C3D9A10>)"
      ]
     },
     "execution_count": 52,
     "metadata": {},
     "output_type": "execute_result"
    }
   ],
   "source": [
    "docsearch.as_retriever()"
   ]
  },
  {
   "cell_type": "code",
   "execution_count": 69,
   "metadata": {},
   "outputs": [],
   "source": [
    "query= \"ILSVRC 2015 classiﬁcation task\""
   ]
  },
  {
   "cell_type": "code",
   "execution_count": 70,
   "metadata": {},
   "outputs": [
    {
     "data": {
      "text/plain": [
       "[Document(page_content='ILSVRC 2015 classiﬁcation task. We also present analysis\\non CIFAR-10 with 100 and 1000 layers.\\nThe depth of representations is of central importance\\nfor many visual recognition tasks. Solely due to our ex-\\ntremely deep representations, we obtain a 28% relative im-\\nprovement on the COCO object detection dataset. Deep\\nresidual nets are foundations of our submissions to ILSVRC\\n& COCO 2015 competitions1, where we also won the 1st\\nplaces on the tasks of ImageNet detection, ImageNet local-'),\n",
       " Document(page_content='validation set. Using an ensemble of networks for both clas-\\nsiﬁcation and localization, we achieve a top-5 localization\\nerror of 9.0% on the test set. This number signiﬁcantly out-\\nperforms the ILSVRC 14 results (Table 14), showing a 64%\\nrelative reduction of error. This result won the 1st place in\\nthe ImageNet localization task in ILSVRC 2015.\\n12'),\n",
       " Document(page_content='trained on the 1000-class ImageNet classiﬁcation set, and\\nare ﬁne-tuned on the DET data. We split the validation set\\ninto two parts (val1/val2) following [8]. We ﬁne-tune the\\ndetection models using the DET training set and the val1\\nset. The val2 set is used for validation. We do not use other\\nILSVRC 2015 data. Our single model with ResNet-101 has\\n6http://host.robots.ox.ac.uk:8080/anonymous/3OJ4OJ.html ,\\nsubmitted on 2015-11-26.\\n11'),\n",
       " Document(page_content='InBMVC , 2011.\\n[5] M. Everingham, L. Van Gool, C. K. Williams, J. Winn, and A. Zis-\\nserman. The Pascal Visual Object Classes (VOC) Challenge. IJCV ,\\npages 303–338, 2010.\\n[6] S. Gidaris and N. Komodakis. Object detection via a multi-region &\\nsemantic segmentation-aware cnn model. In ICCV , 2015.\\n[7] R. Girshick. Fast R-CNN. In ICCV , 2015.\\n[8] R. Girshick, J. Donahue, T. Darrell, and J. Malik. Rich feature hier-\\narchies for accurate object detection and semantic segmentation. In\\nCVPR , 2014.')]"
      ]
     },
     "execution_count": 70,
     "metadata": {},
     "output_type": "execute_result"
    }
   ],
   "source": [
    "docs = docsearch.similarity_search(query)\n",
    "docs"
   ]
  },
  {
   "cell_type": "code",
   "execution_count": 71,
   "metadata": {},
   "outputs": [],
   "source": [
    "llm = OpenAI()"
   ]
  },
  {
   "cell_type": "code",
   "execution_count": 72,
   "metadata": {},
   "outputs": [],
   "source": [
    "qa = RetrievalQA.from_chain_type(llm=llm, chain_type=\"stuff\", retriever=docsearch.as_retriever())"
   ]
  },
  {
   "cell_type": "code",
   "execution_count": 73,
   "metadata": {},
   "outputs": [],
   "source": [
    "query = \"ILSVRC 2015 classiﬁcation task\""
   ]
  },
  {
   "cell_type": "code",
   "execution_count": 74,
   "metadata": {},
   "outputs": [
    {
     "data": {
      "text/plain": [
       "' ILSVRC 2015 was an image classification task. It used the 1000-class ImageNet classiﬁcation set, and results were evaluated on the COCO object detection dataset. The ImageNet localization task was won by a team that achieved a top-5 localization error of 9.0% on the test set.'"
      ]
     },
     "execution_count": 74,
     "metadata": {},
     "output_type": "execute_result"
    }
   ],
   "source": [
    "qa.run(query)"
   ]
  },
  {
   "cell_type": "code",
   "execution_count": 76,
   "metadata": {},
   "outputs": [
    {
     "name": "stdout",
     "output_type": "stream",
     "text": [
      "Answer:  The ILSVRC 2015 classiﬁcation task was won by an ensemble of networks for both classification and localization, achieving a top-5 localization error of 9.0%.\n",
      "Answer:  ILSVRC stands for ImageNet Large Scale Visual Recognition Challenge. It is an annual competition that aims to evaluate algorithms for object detection and image classification.\n",
      "Answer:  ILSVRC stands for ImageNet Large Scale Visual Recognition Challenge. It is an annual competition that evaluates computer vision algorithms on the ImageNet dataset.\n"
     ]
    },
    {
     "ename": "RateLimitError",
     "evalue": "Error code: 429 - {'error': {'message': 'Rate limit reached for text-embedding-ada-002 in organization org-rGeJAvOgfIVeJmMiPZ3ZUOjM on requests per min (RPM): Limit 3, Used 3, Requested 1. Please try again in 20s. Visit https://platform.openai.com/account/rate-limits to learn more. You can increase your rate limit by adding a payment method to your account at https://platform.openai.com/account/billing.', 'type': 'requests', 'param': None, 'code': 'rate_limit_exceeded'}}",
     "output_type": "error",
     "traceback": [
      "\u001b[1;31m---------------------------------------------------------------------------\u001b[0m",
      "\u001b[1;31mRateLimitError\u001b[0m                            Traceback (most recent call last)",
      "Cell \u001b[1;32mIn[76], line 10\u001b[0m\n\u001b[0;32m      8\u001b[0m \u001b[38;5;28;01mif\u001b[39;00m user_input \u001b[38;5;241m==\u001b[39m \u001b[38;5;124m'\u001b[39m\u001b[38;5;124m'\u001b[39m:\n\u001b[0;32m      9\u001b[0m   \u001b[38;5;28;01mcontinue\u001b[39;00m\n\u001b[1;32m---> 10\u001b[0m result \u001b[38;5;241m=\u001b[39m \u001b[43mqa\u001b[49m\u001b[43m(\u001b[49m\u001b[43m{\u001b[49m\u001b[38;5;124;43m'\u001b[39;49m\u001b[38;5;124;43mquery\u001b[39;49m\u001b[38;5;124;43m'\u001b[39;49m\u001b[43m:\u001b[49m\u001b[43m \u001b[49m\u001b[43muser_input\u001b[49m\u001b[43m}\u001b[49m\u001b[43m)\u001b[49m\n\u001b[0;32m     11\u001b[0m \u001b[38;5;28mprint\u001b[39m(\u001b[38;5;124mf\u001b[39m\u001b[38;5;124m\"\u001b[39m\u001b[38;5;124mAnswer: \u001b[39m\u001b[38;5;132;01m{\u001b[39;00mresult[\u001b[38;5;124m'\u001b[39m\u001b[38;5;124mresult\u001b[39m\u001b[38;5;124m'\u001b[39m]\u001b[38;5;132;01m}\u001b[39;00m\u001b[38;5;124m\"\u001b[39m)\n",
      "File \u001b[1;32md:\\Programs\\GenAI\\Intro\\notebooks\\genvenv\\Lib\\site-packages\\langchain\\chains\\base.py:312\u001b[0m, in \u001b[0;36mChain.__call__\u001b[1;34m(self, inputs, return_only_outputs, callbacks, tags, metadata, run_name, include_run_info)\u001b[0m\n\u001b[0;32m    310\u001b[0m \u001b[38;5;28;01mexcept\u001b[39;00m \u001b[38;5;167;01mBaseException\u001b[39;00m \u001b[38;5;28;01mas\u001b[39;00m e:\n\u001b[0;32m    311\u001b[0m     run_manager\u001b[38;5;241m.\u001b[39mon_chain_error(e)\n\u001b[1;32m--> 312\u001b[0m     \u001b[38;5;28;01mraise\u001b[39;00m e\n\u001b[0;32m    313\u001b[0m run_manager\u001b[38;5;241m.\u001b[39mon_chain_end(outputs)\n\u001b[0;32m    314\u001b[0m final_outputs: Dict[\u001b[38;5;28mstr\u001b[39m, Any] \u001b[38;5;241m=\u001b[39m \u001b[38;5;28mself\u001b[39m\u001b[38;5;241m.\u001b[39mprep_outputs(\n\u001b[0;32m    315\u001b[0m     inputs, outputs, return_only_outputs\n\u001b[0;32m    316\u001b[0m )\n",
      "File \u001b[1;32md:\\Programs\\GenAI\\Intro\\notebooks\\genvenv\\Lib\\site-packages\\langchain\\chains\\base.py:306\u001b[0m, in \u001b[0;36mChain.__call__\u001b[1;34m(self, inputs, return_only_outputs, callbacks, tags, metadata, run_name, include_run_info)\u001b[0m\n\u001b[0;32m    299\u001b[0m run_manager \u001b[38;5;241m=\u001b[39m callback_manager\u001b[38;5;241m.\u001b[39mon_chain_start(\n\u001b[0;32m    300\u001b[0m     dumpd(\u001b[38;5;28mself\u001b[39m),\n\u001b[0;32m    301\u001b[0m     inputs,\n\u001b[0;32m    302\u001b[0m     name\u001b[38;5;241m=\u001b[39mrun_name,\n\u001b[0;32m    303\u001b[0m )\n\u001b[0;32m    304\u001b[0m \u001b[38;5;28;01mtry\u001b[39;00m:\n\u001b[0;32m    305\u001b[0m     outputs \u001b[38;5;241m=\u001b[39m (\n\u001b[1;32m--> 306\u001b[0m         \u001b[38;5;28;43mself\u001b[39;49m\u001b[38;5;241;43m.\u001b[39;49m\u001b[43m_call\u001b[49m\u001b[43m(\u001b[49m\u001b[43minputs\u001b[49m\u001b[43m,\u001b[49m\u001b[43m \u001b[49m\u001b[43mrun_manager\u001b[49m\u001b[38;5;241;43m=\u001b[39;49m\u001b[43mrun_manager\u001b[49m\u001b[43m)\u001b[49m\n\u001b[0;32m    307\u001b[0m         \u001b[38;5;28;01mif\u001b[39;00m new_arg_supported\n\u001b[0;32m    308\u001b[0m         \u001b[38;5;28;01melse\u001b[39;00m \u001b[38;5;28mself\u001b[39m\u001b[38;5;241m.\u001b[39m_call(inputs)\n\u001b[0;32m    309\u001b[0m     )\n\u001b[0;32m    310\u001b[0m \u001b[38;5;28;01mexcept\u001b[39;00m \u001b[38;5;167;01mBaseException\u001b[39;00m \u001b[38;5;28;01mas\u001b[39;00m e:\n\u001b[0;32m    311\u001b[0m     run_manager\u001b[38;5;241m.\u001b[39mon_chain_error(e)\n",
      "File \u001b[1;32md:\\Programs\\GenAI\\Intro\\notebooks\\genvenv\\Lib\\site-packages\\langchain\\chains\\retrieval_qa\\base.py:141\u001b[0m, in \u001b[0;36mBaseRetrievalQA._call\u001b[1;34m(self, inputs, run_manager)\u001b[0m\n\u001b[0;32m    137\u001b[0m accepts_run_manager \u001b[38;5;241m=\u001b[39m (\n\u001b[0;32m    138\u001b[0m     \u001b[38;5;124m\"\u001b[39m\u001b[38;5;124mrun_manager\u001b[39m\u001b[38;5;124m\"\u001b[39m \u001b[38;5;129;01min\u001b[39;00m inspect\u001b[38;5;241m.\u001b[39msignature(\u001b[38;5;28mself\u001b[39m\u001b[38;5;241m.\u001b[39m_get_docs)\u001b[38;5;241m.\u001b[39mparameters\n\u001b[0;32m    139\u001b[0m )\n\u001b[0;32m    140\u001b[0m \u001b[38;5;28;01mif\u001b[39;00m accepts_run_manager:\n\u001b[1;32m--> 141\u001b[0m     docs \u001b[38;5;241m=\u001b[39m \u001b[38;5;28;43mself\u001b[39;49m\u001b[38;5;241;43m.\u001b[39;49m\u001b[43m_get_docs\u001b[49m\u001b[43m(\u001b[49m\u001b[43mquestion\u001b[49m\u001b[43m,\u001b[49m\u001b[43m \u001b[49m\u001b[43mrun_manager\u001b[49m\u001b[38;5;241;43m=\u001b[39;49m\u001b[43m_run_manager\u001b[49m\u001b[43m)\u001b[49m\n\u001b[0;32m    142\u001b[0m \u001b[38;5;28;01melse\u001b[39;00m:\n\u001b[0;32m    143\u001b[0m     docs \u001b[38;5;241m=\u001b[39m \u001b[38;5;28mself\u001b[39m\u001b[38;5;241m.\u001b[39m_get_docs(question)  \u001b[38;5;66;03m# type: ignore[call-arg]\u001b[39;00m\n",
      "File \u001b[1;32md:\\Programs\\GenAI\\Intro\\notebooks\\genvenv\\Lib\\site-packages\\langchain\\chains\\retrieval_qa\\base.py:221\u001b[0m, in \u001b[0;36mRetrievalQA._get_docs\u001b[1;34m(self, question, run_manager)\u001b[0m\n\u001b[0;32m    214\u001b[0m \u001b[38;5;28;01mdef\u001b[39;00m \u001b[38;5;21m_get_docs\u001b[39m(\n\u001b[0;32m    215\u001b[0m     \u001b[38;5;28mself\u001b[39m,\n\u001b[0;32m    216\u001b[0m     question: \u001b[38;5;28mstr\u001b[39m,\n\u001b[0;32m    217\u001b[0m     \u001b[38;5;241m*\u001b[39m,\n\u001b[0;32m    218\u001b[0m     run_manager: CallbackManagerForChainRun,\n\u001b[0;32m    219\u001b[0m ) \u001b[38;5;241m-\u001b[39m\u001b[38;5;241m>\u001b[39m List[Document]:\n\u001b[0;32m    220\u001b[0m \u001b[38;5;250m    \u001b[39m\u001b[38;5;124;03m\"\"\"Get docs.\"\"\"\u001b[39;00m\n\u001b[1;32m--> 221\u001b[0m     \u001b[38;5;28;01mreturn\u001b[39;00m \u001b[38;5;28;43mself\u001b[39;49m\u001b[38;5;241;43m.\u001b[39;49m\u001b[43mretriever\u001b[49m\u001b[38;5;241;43m.\u001b[39;49m\u001b[43mget_relevant_documents\u001b[49m\u001b[43m(\u001b[49m\n\u001b[0;32m    222\u001b[0m \u001b[43m        \u001b[49m\u001b[43mquestion\u001b[49m\u001b[43m,\u001b[49m\u001b[43m \u001b[49m\u001b[43mcallbacks\u001b[49m\u001b[38;5;241;43m=\u001b[39;49m\u001b[43mrun_manager\u001b[49m\u001b[38;5;241;43m.\u001b[39;49m\u001b[43mget_child\u001b[49m\u001b[43m(\u001b[49m\u001b[43m)\u001b[49m\n\u001b[0;32m    223\u001b[0m \u001b[43m    \u001b[49m\u001b[43m)\u001b[49m\n",
      "File \u001b[1;32md:\\Programs\\GenAI\\Intro\\notebooks\\genvenv\\Lib\\site-packages\\langchain_core\\retrievers.py:211\u001b[0m, in \u001b[0;36mBaseRetriever.get_relevant_documents\u001b[1;34m(self, query, callbacks, tags, metadata, run_name, **kwargs)\u001b[0m\n\u001b[0;32m    209\u001b[0m \u001b[38;5;28;01mexcept\u001b[39;00m \u001b[38;5;167;01mException\u001b[39;00m \u001b[38;5;28;01mas\u001b[39;00m e:\n\u001b[0;32m    210\u001b[0m     run_manager\u001b[38;5;241m.\u001b[39mon_retriever_error(e)\n\u001b[1;32m--> 211\u001b[0m     \u001b[38;5;28;01mraise\u001b[39;00m e\n\u001b[0;32m    212\u001b[0m \u001b[38;5;28;01melse\u001b[39;00m:\n\u001b[0;32m    213\u001b[0m     run_manager\u001b[38;5;241m.\u001b[39mon_retriever_end(\n\u001b[0;32m    214\u001b[0m         result,\n\u001b[0;32m    215\u001b[0m         \u001b[38;5;241m*\u001b[39m\u001b[38;5;241m*\u001b[39mkwargs,\n\u001b[0;32m    216\u001b[0m     )\n",
      "File \u001b[1;32md:\\Programs\\GenAI\\Intro\\notebooks\\genvenv\\Lib\\site-packages\\langchain_core\\retrievers.py:204\u001b[0m, in \u001b[0;36mBaseRetriever.get_relevant_documents\u001b[1;34m(self, query, callbacks, tags, metadata, run_name, **kwargs)\u001b[0m\n\u001b[0;32m    202\u001b[0m _kwargs \u001b[38;5;241m=\u001b[39m kwargs \u001b[38;5;28;01mif\u001b[39;00m \u001b[38;5;28mself\u001b[39m\u001b[38;5;241m.\u001b[39m_expects_other_args \u001b[38;5;28;01melse\u001b[39;00m {}\n\u001b[0;32m    203\u001b[0m \u001b[38;5;28;01mif\u001b[39;00m \u001b[38;5;28mself\u001b[39m\u001b[38;5;241m.\u001b[39m_new_arg_supported:\n\u001b[1;32m--> 204\u001b[0m     result \u001b[38;5;241m=\u001b[39m \u001b[38;5;28;43mself\u001b[39;49m\u001b[38;5;241;43m.\u001b[39;49m\u001b[43m_get_relevant_documents\u001b[49m\u001b[43m(\u001b[49m\n\u001b[0;32m    205\u001b[0m \u001b[43m        \u001b[49m\u001b[43mquery\u001b[49m\u001b[43m,\u001b[49m\u001b[43m \u001b[49m\u001b[43mrun_manager\u001b[49m\u001b[38;5;241;43m=\u001b[39;49m\u001b[43mrun_manager\u001b[49m\u001b[43m,\u001b[49m\u001b[43m \u001b[49m\u001b[38;5;241;43m*\u001b[39;49m\u001b[38;5;241;43m*\u001b[39;49m\u001b[43m_kwargs\u001b[49m\n\u001b[0;32m    206\u001b[0m \u001b[43m    \u001b[49m\u001b[43m)\u001b[49m\n\u001b[0;32m    207\u001b[0m \u001b[38;5;28;01melse\u001b[39;00m:\n\u001b[0;32m    208\u001b[0m     result \u001b[38;5;241m=\u001b[39m \u001b[38;5;28mself\u001b[39m\u001b[38;5;241m.\u001b[39m_get_relevant_documents(query, \u001b[38;5;241m*\u001b[39m\u001b[38;5;241m*\u001b[39m_kwargs)\n",
      "File \u001b[1;32md:\\Programs\\GenAI\\Intro\\notebooks\\genvenv\\Lib\\site-packages\\langchain_core\\vectorstores.py:656\u001b[0m, in \u001b[0;36mVectorStoreRetriever._get_relevant_documents\u001b[1;34m(self, query, run_manager)\u001b[0m\n\u001b[0;32m    652\u001b[0m \u001b[38;5;28;01mdef\u001b[39;00m \u001b[38;5;21m_get_relevant_documents\u001b[39m(\n\u001b[0;32m    653\u001b[0m     \u001b[38;5;28mself\u001b[39m, query: \u001b[38;5;28mstr\u001b[39m, \u001b[38;5;241m*\u001b[39m, run_manager: CallbackManagerForRetrieverRun\n\u001b[0;32m    654\u001b[0m ) \u001b[38;5;241m-\u001b[39m\u001b[38;5;241m>\u001b[39m List[Document]:\n\u001b[0;32m    655\u001b[0m     \u001b[38;5;28;01mif\u001b[39;00m \u001b[38;5;28mself\u001b[39m\u001b[38;5;241m.\u001b[39msearch_type \u001b[38;5;241m==\u001b[39m \u001b[38;5;124m\"\u001b[39m\u001b[38;5;124msimilarity\u001b[39m\u001b[38;5;124m\"\u001b[39m:\n\u001b[1;32m--> 656\u001b[0m         docs \u001b[38;5;241m=\u001b[39m \u001b[38;5;28;43mself\u001b[39;49m\u001b[38;5;241;43m.\u001b[39;49m\u001b[43mvectorstore\u001b[49m\u001b[38;5;241;43m.\u001b[39;49m\u001b[43msimilarity_search\u001b[49m\u001b[43m(\u001b[49m\u001b[43mquery\u001b[49m\u001b[43m,\u001b[49m\u001b[43m \u001b[49m\u001b[38;5;241;43m*\u001b[39;49m\u001b[38;5;241;43m*\u001b[39;49m\u001b[38;5;28;43mself\u001b[39;49m\u001b[38;5;241;43m.\u001b[39;49m\u001b[43msearch_kwargs\u001b[49m\u001b[43m)\u001b[49m\n\u001b[0;32m    657\u001b[0m     \u001b[38;5;28;01melif\u001b[39;00m \u001b[38;5;28mself\u001b[39m\u001b[38;5;241m.\u001b[39msearch_type \u001b[38;5;241m==\u001b[39m \u001b[38;5;124m\"\u001b[39m\u001b[38;5;124msimilarity_score_threshold\u001b[39m\u001b[38;5;124m\"\u001b[39m:\n\u001b[0;32m    658\u001b[0m         docs_and_similarities \u001b[38;5;241m=\u001b[39m (\n\u001b[0;32m    659\u001b[0m             \u001b[38;5;28mself\u001b[39m\u001b[38;5;241m.\u001b[39mvectorstore\u001b[38;5;241m.\u001b[39msimilarity_search_with_relevance_scores(\n\u001b[0;32m    660\u001b[0m                 query, \u001b[38;5;241m*\u001b[39m\u001b[38;5;241m*\u001b[39m\u001b[38;5;28mself\u001b[39m\u001b[38;5;241m.\u001b[39msearch_kwargs\n\u001b[0;32m    661\u001b[0m             )\n\u001b[0;32m    662\u001b[0m         )\n",
      "File \u001b[1;32md:\\Programs\\GenAI\\Intro\\notebooks\\genvenv\\Lib\\site-packages\\langchain_community\\vectorstores\\pinecone.py:229\u001b[0m, in \u001b[0;36mPinecone.similarity_search\u001b[1;34m(self, query, k, filter, namespace, **kwargs)\u001b[0m\n\u001b[0;32m    210\u001b[0m \u001b[38;5;28;01mdef\u001b[39;00m \u001b[38;5;21msimilarity_search\u001b[39m(\n\u001b[0;32m    211\u001b[0m     \u001b[38;5;28mself\u001b[39m,\n\u001b[0;32m    212\u001b[0m     query: \u001b[38;5;28mstr\u001b[39m,\n\u001b[1;32m   (...)\u001b[0m\n\u001b[0;32m    216\u001b[0m     \u001b[38;5;241m*\u001b[39m\u001b[38;5;241m*\u001b[39mkwargs: Any,\n\u001b[0;32m    217\u001b[0m ) \u001b[38;5;241m-\u001b[39m\u001b[38;5;241m>\u001b[39m List[Document]:\n\u001b[0;32m    218\u001b[0m \u001b[38;5;250m    \u001b[39m\u001b[38;5;124;03m\"\"\"Return pinecone documents most similar to query.\u001b[39;00m\n\u001b[0;32m    219\u001b[0m \n\u001b[0;32m    220\u001b[0m \u001b[38;5;124;03m    Args:\u001b[39;00m\n\u001b[1;32m   (...)\u001b[0m\n\u001b[0;32m    227\u001b[0m \u001b[38;5;124;03m        List of Documents most similar to the query and score for each\u001b[39;00m\n\u001b[0;32m    228\u001b[0m \u001b[38;5;124;03m    \"\"\"\u001b[39;00m\n\u001b[1;32m--> 229\u001b[0m     docs_and_scores \u001b[38;5;241m=\u001b[39m \u001b[38;5;28;43mself\u001b[39;49m\u001b[38;5;241;43m.\u001b[39;49m\u001b[43msimilarity_search_with_score\u001b[49m\u001b[43m(\u001b[49m\n\u001b[0;32m    230\u001b[0m \u001b[43m        \u001b[49m\u001b[43mquery\u001b[49m\u001b[43m,\u001b[49m\u001b[43m \u001b[49m\u001b[43mk\u001b[49m\u001b[38;5;241;43m=\u001b[39;49m\u001b[43mk\u001b[49m\u001b[43m,\u001b[49m\u001b[43m \u001b[49m\u001b[38;5;28;43mfilter\u001b[39;49m\u001b[38;5;241;43m=\u001b[39;49m\u001b[38;5;28;43mfilter\u001b[39;49m\u001b[43m,\u001b[49m\u001b[43m \u001b[49m\u001b[43mnamespace\u001b[49m\u001b[38;5;241;43m=\u001b[39;49m\u001b[43mnamespace\u001b[49m\u001b[43m,\u001b[49m\u001b[43m \u001b[49m\u001b[38;5;241;43m*\u001b[39;49m\u001b[38;5;241;43m*\u001b[39;49m\u001b[43mkwargs\u001b[49m\n\u001b[0;32m    231\u001b[0m \u001b[43m    \u001b[49m\u001b[43m)\u001b[49m\n\u001b[0;32m    232\u001b[0m     \u001b[38;5;28;01mreturn\u001b[39;00m [doc \u001b[38;5;28;01mfor\u001b[39;00m doc, _ \u001b[38;5;129;01min\u001b[39;00m docs_and_scores]\n",
      "File \u001b[1;32md:\\Programs\\GenAI\\Intro\\notebooks\\genvenv\\Lib\\site-packages\\langchain_community\\vectorstores\\pinecone.py:175\u001b[0m, in \u001b[0;36mPinecone.similarity_search_with_score\u001b[1;34m(self, query, k, filter, namespace)\u001b[0m\n\u001b[0;32m    156\u001b[0m \u001b[38;5;28;01mdef\u001b[39;00m \u001b[38;5;21msimilarity_search_with_score\u001b[39m(\n\u001b[0;32m    157\u001b[0m     \u001b[38;5;28mself\u001b[39m,\n\u001b[0;32m    158\u001b[0m     query: \u001b[38;5;28mstr\u001b[39m,\n\u001b[1;32m   (...)\u001b[0m\n\u001b[0;32m    161\u001b[0m     namespace: Optional[\u001b[38;5;28mstr\u001b[39m] \u001b[38;5;241m=\u001b[39m \u001b[38;5;28;01mNone\u001b[39;00m,\n\u001b[0;32m    162\u001b[0m ) \u001b[38;5;241m-\u001b[39m\u001b[38;5;241m>\u001b[39m List[Tuple[Document, \u001b[38;5;28mfloat\u001b[39m]]:\n\u001b[0;32m    163\u001b[0m \u001b[38;5;250m    \u001b[39m\u001b[38;5;124;03m\"\"\"Return pinecone documents most similar to query, along with scores.\u001b[39;00m\n\u001b[0;32m    164\u001b[0m \n\u001b[0;32m    165\u001b[0m \u001b[38;5;124;03m    Args:\u001b[39;00m\n\u001b[1;32m   (...)\u001b[0m\n\u001b[0;32m    172\u001b[0m \u001b[38;5;124;03m        List of Documents most similar to the query and score for each\u001b[39;00m\n\u001b[0;32m    173\u001b[0m \u001b[38;5;124;03m    \"\"\"\u001b[39;00m\n\u001b[0;32m    174\u001b[0m     \u001b[38;5;28;01mreturn\u001b[39;00m \u001b[38;5;28mself\u001b[39m\u001b[38;5;241m.\u001b[39msimilarity_search_by_vector_with_score(\n\u001b[1;32m--> 175\u001b[0m         \u001b[38;5;28;43mself\u001b[39;49m\u001b[38;5;241;43m.\u001b[39;49m\u001b[43m_embed_query\u001b[49m\u001b[43m(\u001b[49m\u001b[43mquery\u001b[49m\u001b[43m)\u001b[49m, k\u001b[38;5;241m=\u001b[39mk, \u001b[38;5;28mfilter\u001b[39m\u001b[38;5;241m=\u001b[39m\u001b[38;5;28mfilter\u001b[39m, namespace\u001b[38;5;241m=\u001b[39mnamespace\n\u001b[0;32m    176\u001b[0m     )\n",
      "File \u001b[1;32md:\\Programs\\GenAI\\Intro\\notebooks\\genvenv\\Lib\\site-packages\\langchain_community\\vectorstores\\pinecone.py:93\u001b[0m, in \u001b[0;36mPinecone._embed_query\u001b[1;34m(self, text)\u001b[0m\n\u001b[0;32m     91\u001b[0m \u001b[38;5;250m\u001b[39m\u001b[38;5;124;03m\"\"\"Embed query text.\"\"\"\u001b[39;00m\n\u001b[0;32m     92\u001b[0m \u001b[38;5;28;01mif\u001b[39;00m \u001b[38;5;28misinstance\u001b[39m(\u001b[38;5;28mself\u001b[39m\u001b[38;5;241m.\u001b[39m_embedding, Embeddings):\n\u001b[1;32m---> 93\u001b[0m     \u001b[38;5;28;01mreturn\u001b[39;00m \u001b[38;5;28;43mself\u001b[39;49m\u001b[38;5;241;43m.\u001b[39;49m\u001b[43m_embedding\u001b[49m\u001b[38;5;241;43m.\u001b[39;49m\u001b[43membed_query\u001b[49m\u001b[43m(\u001b[49m\u001b[43mtext\u001b[49m\u001b[43m)\u001b[49m\n\u001b[0;32m     94\u001b[0m \u001b[38;5;28;01mreturn\u001b[39;00m \u001b[38;5;28mself\u001b[39m\u001b[38;5;241m.\u001b[39m_embedding(text)\n",
      "File \u001b[1;32md:\\Programs\\GenAI\\Intro\\notebooks\\genvenv\\Lib\\site-packages\\langchain_community\\embeddings\\openai.py:696\u001b[0m, in \u001b[0;36mOpenAIEmbeddings.embed_query\u001b[1;34m(self, text)\u001b[0m\n\u001b[0;32m    687\u001b[0m \u001b[38;5;28;01mdef\u001b[39;00m \u001b[38;5;21membed_query\u001b[39m(\u001b[38;5;28mself\u001b[39m, text: \u001b[38;5;28mstr\u001b[39m) \u001b[38;5;241m-\u001b[39m\u001b[38;5;241m>\u001b[39m List[\u001b[38;5;28mfloat\u001b[39m]:\n\u001b[0;32m    688\u001b[0m \u001b[38;5;250m    \u001b[39m\u001b[38;5;124;03m\"\"\"Call out to OpenAI's embedding endpoint for embedding query text.\u001b[39;00m\n\u001b[0;32m    689\u001b[0m \n\u001b[0;32m    690\u001b[0m \u001b[38;5;124;03m    Args:\u001b[39;00m\n\u001b[1;32m   (...)\u001b[0m\n\u001b[0;32m    694\u001b[0m \u001b[38;5;124;03m        Embedding for the text.\u001b[39;00m\n\u001b[0;32m    695\u001b[0m \u001b[38;5;124;03m    \"\"\"\u001b[39;00m\n\u001b[1;32m--> 696\u001b[0m     \u001b[38;5;28;01mreturn\u001b[39;00m \u001b[38;5;28;43mself\u001b[39;49m\u001b[38;5;241;43m.\u001b[39;49m\u001b[43membed_documents\u001b[49m\u001b[43m(\u001b[49m\u001b[43m[\u001b[49m\u001b[43mtext\u001b[49m\u001b[43m]\u001b[49m\u001b[43m)\u001b[49m[\u001b[38;5;241m0\u001b[39m]\n",
      "File \u001b[1;32md:\\Programs\\GenAI\\Intro\\notebooks\\genvenv\\Lib\\site-packages\\langchain_community\\embeddings\\openai.py:667\u001b[0m, in \u001b[0;36mOpenAIEmbeddings.embed_documents\u001b[1;34m(self, texts, chunk_size)\u001b[0m\n\u001b[0;32m    664\u001b[0m \u001b[38;5;66;03m# NOTE: to keep things simple, we assume the list may contain texts longer\u001b[39;00m\n\u001b[0;32m    665\u001b[0m \u001b[38;5;66;03m#       than the maximum context and use length-safe embedding function.\u001b[39;00m\n\u001b[0;32m    666\u001b[0m engine \u001b[38;5;241m=\u001b[39m cast(\u001b[38;5;28mstr\u001b[39m, \u001b[38;5;28mself\u001b[39m\u001b[38;5;241m.\u001b[39mdeployment)\n\u001b[1;32m--> 667\u001b[0m \u001b[38;5;28;01mreturn\u001b[39;00m \u001b[38;5;28;43mself\u001b[39;49m\u001b[38;5;241;43m.\u001b[39;49m\u001b[43m_get_len_safe_embeddings\u001b[49m\u001b[43m(\u001b[49m\u001b[43mtexts\u001b[49m\u001b[43m,\u001b[49m\u001b[43m \u001b[49m\u001b[43mengine\u001b[49m\u001b[38;5;241;43m=\u001b[39;49m\u001b[43mengine\u001b[49m\u001b[43m)\u001b[49m\n",
      "File \u001b[1;32md:\\Programs\\GenAI\\Intro\\notebooks\\genvenv\\Lib\\site-packages\\langchain_community\\embeddings\\openai.py:493\u001b[0m, in \u001b[0;36mOpenAIEmbeddings._get_len_safe_embeddings\u001b[1;34m(self, texts, engine, chunk_size)\u001b[0m\n\u001b[0;32m    491\u001b[0m batched_embeddings: List[List[\u001b[38;5;28mfloat\u001b[39m]] \u001b[38;5;241m=\u001b[39m []\n\u001b[0;32m    492\u001b[0m \u001b[38;5;28;01mfor\u001b[39;00m i \u001b[38;5;129;01min\u001b[39;00m _iter:\n\u001b[1;32m--> 493\u001b[0m     response \u001b[38;5;241m=\u001b[39m \u001b[43membed_with_retry\u001b[49m\u001b[43m(\u001b[49m\n\u001b[0;32m    494\u001b[0m \u001b[43m        \u001b[49m\u001b[38;5;28;43mself\u001b[39;49m\u001b[43m,\u001b[49m\n\u001b[0;32m    495\u001b[0m \u001b[43m        \u001b[49m\u001b[38;5;28;43minput\u001b[39;49m\u001b[38;5;241;43m=\u001b[39;49m\u001b[43mtokens\u001b[49m\u001b[43m[\u001b[49m\u001b[43mi\u001b[49m\u001b[43m \u001b[49m\u001b[43m:\u001b[49m\u001b[43m \u001b[49m\u001b[43mi\u001b[49m\u001b[43m \u001b[49m\u001b[38;5;241;43m+\u001b[39;49m\u001b[43m \u001b[49m\u001b[43m_chunk_size\u001b[49m\u001b[43m]\u001b[49m\u001b[43m,\u001b[49m\n\u001b[0;32m    496\u001b[0m \u001b[43m        \u001b[49m\u001b[38;5;241;43m*\u001b[39;49m\u001b[38;5;241;43m*\u001b[39;49m\u001b[38;5;28;43mself\u001b[39;49m\u001b[38;5;241;43m.\u001b[39;49m\u001b[43m_invocation_params\u001b[49m\u001b[43m,\u001b[49m\n\u001b[0;32m    497\u001b[0m \u001b[43m    \u001b[49m\u001b[43m)\u001b[49m\n\u001b[0;32m    498\u001b[0m     \u001b[38;5;28;01mif\u001b[39;00m \u001b[38;5;129;01mnot\u001b[39;00m \u001b[38;5;28misinstance\u001b[39m(response, \u001b[38;5;28mdict\u001b[39m):\n\u001b[0;32m    499\u001b[0m         response \u001b[38;5;241m=\u001b[39m response\u001b[38;5;241m.\u001b[39mdict()\n",
      "File \u001b[1;32md:\\Programs\\GenAI\\Intro\\notebooks\\genvenv\\Lib\\site-packages\\langchain_community\\embeddings\\openai.py:115\u001b[0m, in \u001b[0;36membed_with_retry\u001b[1;34m(embeddings, **kwargs)\u001b[0m\n\u001b[0;32m    113\u001b[0m \u001b[38;5;250m\u001b[39m\u001b[38;5;124;03m\"\"\"Use tenacity to retry the embedding call.\"\"\"\u001b[39;00m\n\u001b[0;32m    114\u001b[0m \u001b[38;5;28;01mif\u001b[39;00m _is_openai_v1():\n\u001b[1;32m--> 115\u001b[0m     \u001b[38;5;28;01mreturn\u001b[39;00m \u001b[43membeddings\u001b[49m\u001b[38;5;241;43m.\u001b[39;49m\u001b[43mclient\u001b[49m\u001b[38;5;241;43m.\u001b[39;49m\u001b[43mcreate\u001b[49m\u001b[43m(\u001b[49m\u001b[38;5;241;43m*\u001b[39;49m\u001b[38;5;241;43m*\u001b[39;49m\u001b[43mkwargs\u001b[49m\u001b[43m)\u001b[49m\n\u001b[0;32m    116\u001b[0m retry_decorator \u001b[38;5;241m=\u001b[39m _create_retry_decorator(embeddings)\n\u001b[0;32m    118\u001b[0m \u001b[38;5;129m@retry_decorator\u001b[39m\n\u001b[0;32m    119\u001b[0m \u001b[38;5;28;01mdef\u001b[39;00m \u001b[38;5;21m_embed_with_retry\u001b[39m(\u001b[38;5;241m*\u001b[39m\u001b[38;5;241m*\u001b[39mkwargs: Any) \u001b[38;5;241m-\u001b[39m\u001b[38;5;241m>\u001b[39m Any:\n",
      "File \u001b[1;32md:\\Programs\\GenAI\\Intro\\notebooks\\genvenv\\Lib\\site-packages\\openai\\resources\\embeddings.py:105\u001b[0m, in \u001b[0;36mEmbeddings.create\u001b[1;34m(self, input, model, encoding_format, user, extra_headers, extra_query, extra_body, timeout)\u001b[0m\n\u001b[0;32m     99\u001b[0m         embedding\u001b[38;5;241m.\u001b[39membedding \u001b[38;5;241m=\u001b[39m np\u001b[38;5;241m.\u001b[39mfrombuffer(  \u001b[38;5;66;03m# type: ignore[no-untyped-call]\u001b[39;00m\n\u001b[0;32m    100\u001b[0m             base64\u001b[38;5;241m.\u001b[39mb64decode(data), dtype\u001b[38;5;241m=\u001b[39m\u001b[38;5;124m\"\u001b[39m\u001b[38;5;124mfloat32\u001b[39m\u001b[38;5;124m\"\u001b[39m\n\u001b[0;32m    101\u001b[0m         )\u001b[38;5;241m.\u001b[39mtolist()\n\u001b[0;32m    103\u001b[0m     \u001b[38;5;28;01mreturn\u001b[39;00m obj\n\u001b[1;32m--> 105\u001b[0m \u001b[38;5;28;01mreturn\u001b[39;00m \u001b[38;5;28;43mself\u001b[39;49m\u001b[38;5;241;43m.\u001b[39;49m\u001b[43m_post\u001b[49m\u001b[43m(\u001b[49m\n\u001b[0;32m    106\u001b[0m \u001b[43m    \u001b[49m\u001b[38;5;124;43m\"\u001b[39;49m\u001b[38;5;124;43m/embeddings\u001b[39;49m\u001b[38;5;124;43m\"\u001b[39;49m\u001b[43m,\u001b[49m\n\u001b[0;32m    107\u001b[0m \u001b[43m    \u001b[49m\u001b[43mbody\u001b[49m\u001b[38;5;241;43m=\u001b[39;49m\u001b[43mmaybe_transform\u001b[49m\u001b[43m(\u001b[49m\u001b[43mparams\u001b[49m\u001b[43m,\u001b[49m\u001b[43m \u001b[49m\u001b[43membedding_create_params\u001b[49m\u001b[38;5;241;43m.\u001b[39;49m\u001b[43mEmbeddingCreateParams\u001b[49m\u001b[43m)\u001b[49m\u001b[43m,\u001b[49m\n\u001b[0;32m    108\u001b[0m \u001b[43m    \u001b[49m\u001b[43moptions\u001b[49m\u001b[38;5;241;43m=\u001b[39;49m\u001b[43mmake_request_options\u001b[49m\u001b[43m(\u001b[49m\n\u001b[0;32m    109\u001b[0m \u001b[43m        \u001b[49m\u001b[43mextra_headers\u001b[49m\u001b[38;5;241;43m=\u001b[39;49m\u001b[43mextra_headers\u001b[49m\u001b[43m,\u001b[49m\n\u001b[0;32m    110\u001b[0m \u001b[43m        \u001b[49m\u001b[43mextra_query\u001b[49m\u001b[38;5;241;43m=\u001b[39;49m\u001b[43mextra_query\u001b[49m\u001b[43m,\u001b[49m\n\u001b[0;32m    111\u001b[0m \u001b[43m        \u001b[49m\u001b[43mextra_body\u001b[49m\u001b[38;5;241;43m=\u001b[39;49m\u001b[43mextra_body\u001b[49m\u001b[43m,\u001b[49m\n\u001b[0;32m    112\u001b[0m \u001b[43m        \u001b[49m\u001b[43mtimeout\u001b[49m\u001b[38;5;241;43m=\u001b[39;49m\u001b[43mtimeout\u001b[49m\u001b[43m,\u001b[49m\n\u001b[0;32m    113\u001b[0m \u001b[43m        \u001b[49m\u001b[43mpost_parser\u001b[49m\u001b[38;5;241;43m=\u001b[39;49m\u001b[43mparser\u001b[49m\u001b[43m,\u001b[49m\n\u001b[0;32m    114\u001b[0m \u001b[43m    \u001b[49m\u001b[43m)\u001b[49m\u001b[43m,\u001b[49m\n\u001b[0;32m    115\u001b[0m \u001b[43m    \u001b[49m\u001b[43mcast_to\u001b[49m\u001b[38;5;241;43m=\u001b[39;49m\u001b[43mCreateEmbeddingResponse\u001b[49m\u001b[43m,\u001b[49m\n\u001b[0;32m    116\u001b[0m \u001b[43m\u001b[49m\u001b[43m)\u001b[49m\n",
      "File \u001b[1;32md:\\Programs\\GenAI\\Intro\\notebooks\\genvenv\\Lib\\site-packages\\openai\\_base_client.py:1088\u001b[0m, in \u001b[0;36mSyncAPIClient.post\u001b[1;34m(self, path, cast_to, body, options, files, stream, stream_cls)\u001b[0m\n\u001b[0;32m   1074\u001b[0m \u001b[38;5;28;01mdef\u001b[39;00m \u001b[38;5;21mpost\u001b[39m(\n\u001b[0;32m   1075\u001b[0m     \u001b[38;5;28mself\u001b[39m,\n\u001b[0;32m   1076\u001b[0m     path: \u001b[38;5;28mstr\u001b[39m,\n\u001b[1;32m   (...)\u001b[0m\n\u001b[0;32m   1083\u001b[0m     stream_cls: \u001b[38;5;28mtype\u001b[39m[_StreamT] \u001b[38;5;241m|\u001b[39m \u001b[38;5;28;01mNone\u001b[39;00m \u001b[38;5;241m=\u001b[39m \u001b[38;5;28;01mNone\u001b[39;00m,\n\u001b[0;32m   1084\u001b[0m ) \u001b[38;5;241m-\u001b[39m\u001b[38;5;241m>\u001b[39m ResponseT \u001b[38;5;241m|\u001b[39m _StreamT:\n\u001b[0;32m   1085\u001b[0m     opts \u001b[38;5;241m=\u001b[39m FinalRequestOptions\u001b[38;5;241m.\u001b[39mconstruct(\n\u001b[0;32m   1086\u001b[0m         method\u001b[38;5;241m=\u001b[39m\u001b[38;5;124m\"\u001b[39m\u001b[38;5;124mpost\u001b[39m\u001b[38;5;124m\"\u001b[39m, url\u001b[38;5;241m=\u001b[39mpath, json_data\u001b[38;5;241m=\u001b[39mbody, files\u001b[38;5;241m=\u001b[39mto_httpx_files(files), \u001b[38;5;241m*\u001b[39m\u001b[38;5;241m*\u001b[39moptions\n\u001b[0;32m   1087\u001b[0m     )\n\u001b[1;32m-> 1088\u001b[0m     \u001b[38;5;28;01mreturn\u001b[39;00m cast(ResponseT, \u001b[38;5;28;43mself\u001b[39;49m\u001b[38;5;241;43m.\u001b[39;49m\u001b[43mrequest\u001b[49m\u001b[43m(\u001b[49m\u001b[43mcast_to\u001b[49m\u001b[43m,\u001b[49m\u001b[43m \u001b[49m\u001b[43mopts\u001b[49m\u001b[43m,\u001b[49m\u001b[43m \u001b[49m\u001b[43mstream\u001b[49m\u001b[38;5;241;43m=\u001b[39;49m\u001b[43mstream\u001b[49m\u001b[43m,\u001b[49m\u001b[43m \u001b[49m\u001b[43mstream_cls\u001b[49m\u001b[38;5;241;43m=\u001b[39;49m\u001b[43mstream_cls\u001b[49m\u001b[43m)\u001b[49m)\n",
      "File \u001b[1;32md:\\Programs\\GenAI\\Intro\\notebooks\\genvenv\\Lib\\site-packages\\openai\\_base_client.py:853\u001b[0m, in \u001b[0;36mSyncAPIClient.request\u001b[1;34m(self, cast_to, options, remaining_retries, stream, stream_cls)\u001b[0m\n\u001b[0;32m    844\u001b[0m \u001b[38;5;28;01mdef\u001b[39;00m \u001b[38;5;21mrequest\u001b[39m(\n\u001b[0;32m    845\u001b[0m     \u001b[38;5;28mself\u001b[39m,\n\u001b[0;32m    846\u001b[0m     cast_to: Type[ResponseT],\n\u001b[1;32m   (...)\u001b[0m\n\u001b[0;32m    851\u001b[0m     stream_cls: \u001b[38;5;28mtype\u001b[39m[_StreamT] \u001b[38;5;241m|\u001b[39m \u001b[38;5;28;01mNone\u001b[39;00m \u001b[38;5;241m=\u001b[39m \u001b[38;5;28;01mNone\u001b[39;00m,\n\u001b[0;32m    852\u001b[0m ) \u001b[38;5;241m-\u001b[39m\u001b[38;5;241m>\u001b[39m ResponseT \u001b[38;5;241m|\u001b[39m _StreamT:\n\u001b[1;32m--> 853\u001b[0m     \u001b[38;5;28;01mreturn\u001b[39;00m \u001b[38;5;28;43mself\u001b[39;49m\u001b[38;5;241;43m.\u001b[39;49m\u001b[43m_request\u001b[49m\u001b[43m(\u001b[49m\n\u001b[0;32m    854\u001b[0m \u001b[43m        \u001b[49m\u001b[43mcast_to\u001b[49m\u001b[38;5;241;43m=\u001b[39;49m\u001b[43mcast_to\u001b[49m\u001b[43m,\u001b[49m\n\u001b[0;32m    855\u001b[0m \u001b[43m        \u001b[49m\u001b[43moptions\u001b[49m\u001b[38;5;241;43m=\u001b[39;49m\u001b[43moptions\u001b[49m\u001b[43m,\u001b[49m\n\u001b[0;32m    856\u001b[0m \u001b[43m        \u001b[49m\u001b[43mstream\u001b[49m\u001b[38;5;241;43m=\u001b[39;49m\u001b[43mstream\u001b[49m\u001b[43m,\u001b[49m\n\u001b[0;32m    857\u001b[0m \u001b[43m        \u001b[49m\u001b[43mstream_cls\u001b[49m\u001b[38;5;241;43m=\u001b[39;49m\u001b[43mstream_cls\u001b[49m\u001b[43m,\u001b[49m\n\u001b[0;32m    858\u001b[0m \u001b[43m        \u001b[49m\u001b[43mremaining_retries\u001b[49m\u001b[38;5;241;43m=\u001b[39;49m\u001b[43mremaining_retries\u001b[49m\u001b[43m,\u001b[49m\n\u001b[0;32m    859\u001b[0m \u001b[43m    \u001b[49m\u001b[43m)\u001b[49m\n",
      "File \u001b[1;32md:\\Programs\\GenAI\\Intro\\notebooks\\genvenv\\Lib\\site-packages\\openai\\_base_client.py:916\u001b[0m, in \u001b[0;36mSyncAPIClient._request\u001b[1;34m(self, cast_to, options, remaining_retries, stream, stream_cls)\u001b[0m\n\u001b[0;32m    914\u001b[0m \u001b[38;5;28;01mif\u001b[39;00m retries \u001b[38;5;241m>\u001b[39m \u001b[38;5;241m0\u001b[39m \u001b[38;5;129;01mand\u001b[39;00m \u001b[38;5;28mself\u001b[39m\u001b[38;5;241m.\u001b[39m_should_retry(err\u001b[38;5;241m.\u001b[39mresponse):\n\u001b[0;32m    915\u001b[0m     err\u001b[38;5;241m.\u001b[39mresponse\u001b[38;5;241m.\u001b[39mclose()\n\u001b[1;32m--> 916\u001b[0m     \u001b[38;5;28;01mreturn\u001b[39;00m \u001b[38;5;28;43mself\u001b[39;49m\u001b[38;5;241;43m.\u001b[39;49m\u001b[43m_retry_request\u001b[49m\u001b[43m(\u001b[49m\n\u001b[0;32m    917\u001b[0m \u001b[43m        \u001b[49m\u001b[43moptions\u001b[49m\u001b[43m,\u001b[49m\n\u001b[0;32m    918\u001b[0m \u001b[43m        \u001b[49m\u001b[43mcast_to\u001b[49m\u001b[43m,\u001b[49m\n\u001b[0;32m    919\u001b[0m \u001b[43m        \u001b[49m\u001b[43mretries\u001b[49m\u001b[43m,\u001b[49m\n\u001b[0;32m    920\u001b[0m \u001b[43m        \u001b[49m\u001b[43merr\u001b[49m\u001b[38;5;241;43m.\u001b[39;49m\u001b[43mresponse\u001b[49m\u001b[38;5;241;43m.\u001b[39;49m\u001b[43mheaders\u001b[49m\u001b[43m,\u001b[49m\n\u001b[0;32m    921\u001b[0m \u001b[43m        \u001b[49m\u001b[43mstream\u001b[49m\u001b[38;5;241;43m=\u001b[39;49m\u001b[43mstream\u001b[49m\u001b[43m,\u001b[49m\n\u001b[0;32m    922\u001b[0m \u001b[43m        \u001b[49m\u001b[43mstream_cls\u001b[49m\u001b[38;5;241;43m=\u001b[39;49m\u001b[43mstream_cls\u001b[49m\u001b[43m,\u001b[49m\n\u001b[0;32m    923\u001b[0m \u001b[43m    \u001b[49m\u001b[43m)\u001b[49m\n\u001b[0;32m    925\u001b[0m \u001b[38;5;66;03m# If the response is streamed then we need to explicitly read the response\u001b[39;00m\n\u001b[0;32m    926\u001b[0m \u001b[38;5;66;03m# to completion before attempting to access the response text.\u001b[39;00m\n\u001b[0;32m    927\u001b[0m \u001b[38;5;28;01mif\u001b[39;00m \u001b[38;5;129;01mnot\u001b[39;00m err\u001b[38;5;241m.\u001b[39mresponse\u001b[38;5;241m.\u001b[39mis_closed:\n",
      "File \u001b[1;32md:\\Programs\\GenAI\\Intro\\notebooks\\genvenv\\Lib\\site-packages\\openai\\_base_client.py:958\u001b[0m, in \u001b[0;36mSyncAPIClient._retry_request\u001b[1;34m(self, options, cast_to, remaining_retries, response_headers, stream, stream_cls)\u001b[0m\n\u001b[0;32m    954\u001b[0m \u001b[38;5;66;03m# In a synchronous context we are blocking the entire thread. Up to the library user to run the client in a\u001b[39;00m\n\u001b[0;32m    955\u001b[0m \u001b[38;5;66;03m# different thread if necessary.\u001b[39;00m\n\u001b[0;32m    956\u001b[0m time\u001b[38;5;241m.\u001b[39msleep(timeout)\n\u001b[1;32m--> 958\u001b[0m \u001b[38;5;28;01mreturn\u001b[39;00m \u001b[38;5;28;43mself\u001b[39;49m\u001b[38;5;241;43m.\u001b[39;49m\u001b[43m_request\u001b[49m\u001b[43m(\u001b[49m\n\u001b[0;32m    959\u001b[0m \u001b[43m    \u001b[49m\u001b[43moptions\u001b[49m\u001b[38;5;241;43m=\u001b[39;49m\u001b[43moptions\u001b[49m\u001b[43m,\u001b[49m\n\u001b[0;32m    960\u001b[0m \u001b[43m    \u001b[49m\u001b[43mcast_to\u001b[49m\u001b[38;5;241;43m=\u001b[39;49m\u001b[43mcast_to\u001b[49m\u001b[43m,\u001b[49m\n\u001b[0;32m    961\u001b[0m \u001b[43m    \u001b[49m\u001b[43mremaining_retries\u001b[49m\u001b[38;5;241;43m=\u001b[39;49m\u001b[43mremaining\u001b[49m\u001b[43m,\u001b[49m\n\u001b[0;32m    962\u001b[0m \u001b[43m    \u001b[49m\u001b[43mstream\u001b[49m\u001b[38;5;241;43m=\u001b[39;49m\u001b[43mstream\u001b[49m\u001b[43m,\u001b[49m\n\u001b[0;32m    963\u001b[0m \u001b[43m    \u001b[49m\u001b[43mstream_cls\u001b[49m\u001b[38;5;241;43m=\u001b[39;49m\u001b[43mstream_cls\u001b[49m\u001b[43m,\u001b[49m\n\u001b[0;32m    964\u001b[0m \u001b[43m\u001b[49m\u001b[43m)\u001b[49m\n",
      "File \u001b[1;32md:\\Programs\\GenAI\\Intro\\notebooks\\genvenv\\Lib\\site-packages\\openai\\_base_client.py:916\u001b[0m, in \u001b[0;36mSyncAPIClient._request\u001b[1;34m(self, cast_to, options, remaining_retries, stream, stream_cls)\u001b[0m\n\u001b[0;32m    914\u001b[0m \u001b[38;5;28;01mif\u001b[39;00m retries \u001b[38;5;241m>\u001b[39m \u001b[38;5;241m0\u001b[39m \u001b[38;5;129;01mand\u001b[39;00m \u001b[38;5;28mself\u001b[39m\u001b[38;5;241m.\u001b[39m_should_retry(err\u001b[38;5;241m.\u001b[39mresponse):\n\u001b[0;32m    915\u001b[0m     err\u001b[38;5;241m.\u001b[39mresponse\u001b[38;5;241m.\u001b[39mclose()\n\u001b[1;32m--> 916\u001b[0m     \u001b[38;5;28;01mreturn\u001b[39;00m \u001b[38;5;28;43mself\u001b[39;49m\u001b[38;5;241;43m.\u001b[39;49m\u001b[43m_retry_request\u001b[49m\u001b[43m(\u001b[49m\n\u001b[0;32m    917\u001b[0m \u001b[43m        \u001b[49m\u001b[43moptions\u001b[49m\u001b[43m,\u001b[49m\n\u001b[0;32m    918\u001b[0m \u001b[43m        \u001b[49m\u001b[43mcast_to\u001b[49m\u001b[43m,\u001b[49m\n\u001b[0;32m    919\u001b[0m \u001b[43m        \u001b[49m\u001b[43mretries\u001b[49m\u001b[43m,\u001b[49m\n\u001b[0;32m    920\u001b[0m \u001b[43m        \u001b[49m\u001b[43merr\u001b[49m\u001b[38;5;241;43m.\u001b[39;49m\u001b[43mresponse\u001b[49m\u001b[38;5;241;43m.\u001b[39;49m\u001b[43mheaders\u001b[49m\u001b[43m,\u001b[49m\n\u001b[0;32m    921\u001b[0m \u001b[43m        \u001b[49m\u001b[43mstream\u001b[49m\u001b[38;5;241;43m=\u001b[39;49m\u001b[43mstream\u001b[49m\u001b[43m,\u001b[49m\n\u001b[0;32m    922\u001b[0m \u001b[43m        \u001b[49m\u001b[43mstream_cls\u001b[49m\u001b[38;5;241;43m=\u001b[39;49m\u001b[43mstream_cls\u001b[49m\u001b[43m,\u001b[49m\n\u001b[0;32m    923\u001b[0m \u001b[43m    \u001b[49m\u001b[43m)\u001b[49m\n\u001b[0;32m    925\u001b[0m \u001b[38;5;66;03m# If the response is streamed then we need to explicitly read the response\u001b[39;00m\n\u001b[0;32m    926\u001b[0m \u001b[38;5;66;03m# to completion before attempting to access the response text.\u001b[39;00m\n\u001b[0;32m    927\u001b[0m \u001b[38;5;28;01mif\u001b[39;00m \u001b[38;5;129;01mnot\u001b[39;00m err\u001b[38;5;241m.\u001b[39mresponse\u001b[38;5;241m.\u001b[39mis_closed:\n",
      "File \u001b[1;32md:\\Programs\\GenAI\\Intro\\notebooks\\genvenv\\Lib\\site-packages\\openai\\_base_client.py:958\u001b[0m, in \u001b[0;36mSyncAPIClient._retry_request\u001b[1;34m(self, options, cast_to, remaining_retries, response_headers, stream, stream_cls)\u001b[0m\n\u001b[0;32m    954\u001b[0m \u001b[38;5;66;03m# In a synchronous context we are blocking the entire thread. Up to the library user to run the client in a\u001b[39;00m\n\u001b[0;32m    955\u001b[0m \u001b[38;5;66;03m# different thread if necessary.\u001b[39;00m\n\u001b[0;32m    956\u001b[0m time\u001b[38;5;241m.\u001b[39msleep(timeout)\n\u001b[1;32m--> 958\u001b[0m \u001b[38;5;28;01mreturn\u001b[39;00m \u001b[38;5;28;43mself\u001b[39;49m\u001b[38;5;241;43m.\u001b[39;49m\u001b[43m_request\u001b[49m\u001b[43m(\u001b[49m\n\u001b[0;32m    959\u001b[0m \u001b[43m    \u001b[49m\u001b[43moptions\u001b[49m\u001b[38;5;241;43m=\u001b[39;49m\u001b[43moptions\u001b[49m\u001b[43m,\u001b[49m\n\u001b[0;32m    960\u001b[0m \u001b[43m    \u001b[49m\u001b[43mcast_to\u001b[49m\u001b[38;5;241;43m=\u001b[39;49m\u001b[43mcast_to\u001b[49m\u001b[43m,\u001b[49m\n\u001b[0;32m    961\u001b[0m \u001b[43m    \u001b[49m\u001b[43mremaining_retries\u001b[49m\u001b[38;5;241;43m=\u001b[39;49m\u001b[43mremaining\u001b[49m\u001b[43m,\u001b[49m\n\u001b[0;32m    962\u001b[0m \u001b[43m    \u001b[49m\u001b[43mstream\u001b[49m\u001b[38;5;241;43m=\u001b[39;49m\u001b[43mstream\u001b[49m\u001b[43m,\u001b[49m\n\u001b[0;32m    963\u001b[0m \u001b[43m    \u001b[49m\u001b[43mstream_cls\u001b[49m\u001b[38;5;241;43m=\u001b[39;49m\u001b[43mstream_cls\u001b[49m\u001b[43m,\u001b[49m\n\u001b[0;32m    964\u001b[0m \u001b[43m\u001b[49m\u001b[43m)\u001b[49m\n",
      "File \u001b[1;32md:\\Programs\\GenAI\\Intro\\notebooks\\genvenv\\Lib\\site-packages\\openai\\_base_client.py:930\u001b[0m, in \u001b[0;36mSyncAPIClient._request\u001b[1;34m(self, cast_to, options, remaining_retries, stream, stream_cls)\u001b[0m\n\u001b[0;32m    927\u001b[0m     \u001b[38;5;28;01mif\u001b[39;00m \u001b[38;5;129;01mnot\u001b[39;00m err\u001b[38;5;241m.\u001b[39mresponse\u001b[38;5;241m.\u001b[39mis_closed:\n\u001b[0;32m    928\u001b[0m         err\u001b[38;5;241m.\u001b[39mresponse\u001b[38;5;241m.\u001b[39mread()\n\u001b[1;32m--> 930\u001b[0m     \u001b[38;5;28;01mraise\u001b[39;00m \u001b[38;5;28mself\u001b[39m\u001b[38;5;241m.\u001b[39m_make_status_error_from_response(err\u001b[38;5;241m.\u001b[39mresponse) \u001b[38;5;28;01mfrom\u001b[39;00m \u001b[38;5;28;01mNone\u001b[39;00m\n\u001b[0;32m    932\u001b[0m \u001b[38;5;28;01mreturn\u001b[39;00m \u001b[38;5;28mself\u001b[39m\u001b[38;5;241m.\u001b[39m_process_response(\n\u001b[0;32m    933\u001b[0m     cast_to\u001b[38;5;241m=\u001b[39mcast_to,\n\u001b[0;32m    934\u001b[0m     options\u001b[38;5;241m=\u001b[39moptions,\n\u001b[1;32m   (...)\u001b[0m\n\u001b[0;32m    937\u001b[0m     stream_cls\u001b[38;5;241m=\u001b[39mstream_cls,\n\u001b[0;32m    938\u001b[0m )\n",
      "\u001b[1;31mRateLimitError\u001b[0m: Error code: 429 - {'error': {'message': 'Rate limit reached for text-embedding-ada-002 in organization org-rGeJAvOgfIVeJmMiPZ3ZUOjM on requests per min (RPM): Limit 3, Used 3, Requested 1. Please try again in 20s. Visit https://platform.openai.com/account/rate-limits to learn more. You can increase your rate limit by adding a payment method to your account at https://platform.openai.com/account/billing.', 'type': 'requests', 'param': None, 'code': 'rate_limit_exceeded'}}"
     ]
    }
   ],
   "source": [
    "import sys\n",
    "while True:\n",
    "  #user_input = input(f\"Input Prompt: \")\n",
    "  user_input = \"ILSVRC 2015 classiﬁcation task\"\n",
    "  if user_input == 'exit':\n",
    "    print('Exiting')\n",
    "    sys.exit()\n",
    "  if user_input == '':\n",
    "    continue\n",
    "  result = qa({'query': user_input})\n",
    "  print(f\"Answer: {result['result']}\")"
   ]
  },
  {
   "cell_type": "code",
   "execution_count": null,
   "metadata": {},
   "outputs": [],
   "source": []
  }
 ],
 "metadata": {
  "kernelspec": {
   "display_name": "genvenv",
   "language": "python",
   "name": "python3"
  },
  "language_info": {
   "codemirror_mode": {
    "name": "ipython",
    "version": 3
   },
   "file_extension": ".py",
   "mimetype": "text/x-python",
   "name": "python",
   "nbconvert_exporter": "python",
   "pygments_lexer": "ipython3",
   "version": "3.11.6"
  }
 },
 "nbformat": 4,
 "nbformat_minor": 2
}
